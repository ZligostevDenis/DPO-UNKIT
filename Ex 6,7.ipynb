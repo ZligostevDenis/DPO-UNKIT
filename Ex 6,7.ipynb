{
 "cells": [
  {
   "cell_type": "markdown",
   "metadata": {},
   "source": [
    "# Практика №6 и №7— 03.12.2024 и 10.12.2024"
   ]
  },
  {
   "cell_type": "markdown",
   "metadata": {},
   "source": [
    "# Упражнения на работу с pandas"
   ]
  },
  {
   "cell_type": "code",
   "execution_count": null,
   "metadata": {},
   "outputs": [],
   "source": [
    "import pandas as pd\n",
    "import numpy as np"
   ]
  },
  {
   "cell_type": "markdown",
   "metadata": {},
   "source": [
    "## Упражнение № 1\n",
    "\n",
    "Создайте Series из каждого из элементов: списка, ndarray и словаря.\n",
    "\n",
    "Пример входных данных:\n",
    "\n",
    "```python\n",
    "import numpy as np\n",
    "mylist = list('abcedfghijklmnopqrstuvwxyz')\n",
    "myarr = np.arange(26)\n",
    "mydict = dict(zip(mylist, myarr))\n",
    "```"
   ]
  },
  {
   "cell_type": "code",
   "execution_count": null,
   "metadata": {},
   "outputs": [
    {
     "name": "stdout",
     "output_type": "stream",
     "text": [
      "0     a\n",
      "1     b\n",
      "2     c\n",
      "3     e\n",
      "4     d\n",
      "5     f\n",
      "6     g\n",
      "7     h\n",
      "8     i\n",
      "9     j\n",
      "10    k\n",
      "11    l\n",
      "12    m\n",
      "13    n\n",
      "14    o\n",
      "15    p\n",
      "16    q\n",
      "17    r\n",
      "18    s\n",
      "19    t\n",
      "20    u\n",
      "21    v\n",
      "22    w\n",
      "23    x\n",
      "24    y\n",
      "25    z\n",
      "dtype: object\n",
      "0      0\n",
      "1      1\n",
      "2      2\n",
      "3      3\n",
      "4      4\n",
      "5      5\n",
      "6      6\n",
      "7      7\n",
      "8      8\n",
      "9      9\n",
      "10    10\n",
      "11    11\n",
      "12    12\n",
      "13    13\n",
      "14    14\n",
      "15    15\n",
      "16    16\n",
      "17    17\n",
      "18    18\n",
      "19    19\n",
      "20    20\n",
      "21    21\n",
      "22    22\n",
      "23    23\n",
      "24    24\n",
      "25    25\n",
      "dtype: int64\n",
      "a     0\n",
      "b     1\n",
      "c     2\n",
      "e     3\n",
      "d     4\n",
      "f     5\n",
      "g     6\n",
      "h     7\n",
      "i     8\n",
      "j     9\n",
      "k    10\n",
      "l    11\n",
      "m    12\n",
      "n    13\n",
      "o    14\n",
      "p    15\n",
      "q    16\n",
      "r    17\n",
      "s    18\n",
      "t    19\n",
      "u    20\n",
      "v    21\n",
      "w    22\n",
      "x    23\n",
      "y    24\n",
      "z    25\n",
      "dtype: int64\n"
     ]
    }
   ],
   "source": [
    "mylist = list('abcedfghijklmnopqrstuvwxyz')\n",
    "myarr = np.arange(26)\n",
    "mydict = dict(zip(mylist, myarr))\n",
    "\n",
    "print(pd.Series(mylist))\n",
    "print(pd.Series(myarr))\n",
    "print(pd.Series(mydict))"
   ]
  },
  {
   "cell_type": "markdown",
   "metadata": {},
   "source": [
    "## Упражнение № 2\n",
    "\n",
    "Преобразуйте `ser` в датафрейм с его индексом в качестве еще одного столбца датафрейма.\n",
    "\n",
    "Пример входных данных:\n",
    "\n",
    "```python\n",
    "import numpy as np\n",
    "mylist = list('abcedfghijklmnopqrstuvwxyz')\n",
    "myarr = np.arange(26)\n",
    "mydict = dict(zip(mylist, myarr))\n",
    "ser = pd.Series(mydict)\n",
    "```"
   ]
  },
  {
   "cell_type": "code",
   "execution_count": null,
   "metadata": {},
   "outputs": [
    {
     "name": "stdout",
     "output_type": "stream",
     "text": [
      "   index  value\n",
      "0      a      0\n",
      "1      b      1\n",
      "2      c      2\n",
      "3      e      3\n",
      "4      d      4\n",
      "5      f      5\n",
      "6      g      6\n",
      "7      h      7\n",
      "8      i      8\n",
      "9      j      9\n",
      "10     k     10\n",
      "11     l     11\n",
      "12     m     12\n",
      "13     n     13\n",
      "14     o     14\n",
      "15     p     15\n",
      "16     q     16\n",
      "17     r     17\n",
      "18     s     18\n",
      "19     t     19\n",
      "20     u     20\n",
      "21     v     21\n",
      "22     w     22\n",
      "23     x     23\n",
      "24     y     24\n",
      "25     z     25\n"
     ]
    }
   ],
   "source": [
    "mylist = list('abcedfghijklmnopqrstuvwxyz')\n",
    "myarr = np.arange(26)\n",
    "mydict = dict(zip(mylist, myarr))\n",
    "ser = pd.Series(mydict)\n",
    "\n",
    "# Преобразование значений Series в индексы DataFrame и наоборот\n",
    "df = pd.DataFrame({'index': ser.index, 'value': ser.values})\n",
    "\n",
    "print(df)"
   ]
  },
  {
   "cell_type": "markdown",
   "metadata": {},
   "source": [
    "## Упражнение № 3\n",
    "\n",
    "Объедините `ser1` и `ser2`, чтобы сформировать датафрейм.\n",
    "\n",
    "Пример входных данных:\n",
    "\n",
    "```python\n",
    "import numpy as np\n",
    "mylist = list('abcedfghijklmnopqrstuvwxyz')\n",
    "myarr = np.arange(26)\n",
    "mydict = dict(zip(mylist, myarr))\n",
    "```"
   ]
  },
  {
   "cell_type": "code",
   "execution_count": null,
   "metadata": {},
   "outputs": [
    {
     "name": "stdout",
     "output_type": "stream",
     "text": [
      "   col1  col2\n",
      "0     a     0\n",
      "1     b     1\n",
      "2     c     2\n",
      "3     e     3\n",
      "4     d     4\n",
      "5     f     5\n",
      "6     g     6\n",
      "7     h     7\n",
      "8     i     8\n",
      "9     j     9\n",
      "10    k    10\n",
      "11    l    11\n",
      "12    m    12\n",
      "13    n    13\n",
      "14    o    14\n",
      "15    p    15\n",
      "16    q    16\n",
      "17    r    17\n",
      "18    s    18\n",
      "19    t    19\n",
      "20    u    20\n",
      "21    v    21\n",
      "22    w    22\n",
      "23    x    23\n",
      "24    y    24\n",
      "25    z    25\n"
     ]
    }
   ],
   "source": [
    "mylist = list('abcedfghijklmnopqrstuvwxyz')\n",
    "myarr = np.arange(26)\n",
    "mydict = dict(zip(mylist, myarr))\n",
    "\n",
    "df = pd.DataFrame({'col1' : pd.Series(mylist), 'col2' : pd.Series(myarr)})\n",
    "print(df)"
   ]
  },
  {
   "cell_type": "markdown",
   "metadata": {},
   "source": [
    "## Упражнение № 4\n",
    "\n",
    "Добавьте имя ряда  `ser`, назвав его `latin_letters`.\n",
    "\n",
    "Пример входных данных:\n",
    "\n",
    "```python\n",
    "ser = pd.Series(list('abcedfghijklmnopqrstuvwxyz'))\n",
    "```"
   ]
  },
  {
   "cell_type": "code",
   "execution_count": null,
   "metadata": {},
   "outputs": [
    {
     "name": "stdout",
     "output_type": "stream",
     "text": [
      "0     a\n",
      "1     b\n",
      "2     c\n",
      "3     e\n",
      "4     d\n",
      "5     f\n",
      "6     g\n",
      "7     h\n",
      "8     i\n",
      "9     j\n",
      "10    k\n",
      "11    l\n",
      "12    m\n",
      "13    n\n",
      "14    o\n",
      "15    p\n",
      "16    q\n",
      "17    r\n",
      "18    s\n",
      "19    t\n",
      "20    u\n",
      "21    v\n",
      "22    w\n",
      "23    x\n",
      "24    y\n",
      "25    z\n",
      "Name: latin_letters, dtype: object\n"
     ]
    }
   ],
   "source": [
    "ser = pd.Series(list('abcedfghijklmnopqrstuvwxyz'))\n",
    "ser.name = 'latin_letters'\n",
    "print(ser)"
   ]
  },
  {
   "cell_type": "markdown",
   "metadata": {},
   "source": [
    "## Упражнение № 5\n",
    "\n",
    "Из `ser1` удалите элементы, присутствующие в `ser2`.\n",
    "\n",
    "```python\n",
    "ser1 = pd.Series([1, 2, 3, 4, 5])\n",
    "ser2 = pd.Series([4, 5, 6, 7, 8])\n",
    "```"
   ]
  },
  {
   "cell_type": "code",
   "execution_count": null,
   "metadata": {},
   "outputs": [
    {
     "name": "stdout",
     "output_type": "stream",
     "text": [
      "0    1\n",
      "1    2\n",
      "2    3\n",
      "dtype: int64\n"
     ]
    }
   ],
   "source": [
    "ser1 = pd.Series([1, 2, 3, 4, 5])\n",
    "ser2 = pd.Series([4, 5, 6, 7, 8])\n",
    "\n",
    "print(ser1[~ser1.isin(ser2)])\n"
   ]
  },
  {
   "cell_type": "markdown",
   "metadata": {},
   "source": [
    "## Упражнение № 6\n",
    "\n",
    "Получить все элементы `ser1` и `ser2`, которые не являются общими для обоих рядов.\n",
    "\n",
    "Пример входных данных:\n",
    "\n",
    "```python\n",
    "ser1 = pd.Series([1, 2, 3, 4, 5])\n",
    "ser2 = pd.Series([4, 5, 6, 7, 8])"
   ]
  },
  {
   "cell_type": "code",
   "execution_count": null,
   "metadata": {},
   "outputs": [
    {
     "name": "stdout",
     "output_type": "stream",
     "text": [
      "0    1\n",
      "1    2\n",
      "2    3\n",
      "3    6\n",
      "4    7\n",
      "5    8\n",
      "dtype: int64\n"
     ]
    }
   ],
   "source": [
    "ser1 = pd.Series([1, 2, 3, 4, 5])\n",
    "ser2 = pd.Series([4, 5, 6, 7, 8])\n",
    "\n",
    "print(pd.concat([ser1[~ser1.isin(ser2)], ser2[~ser2.isin(ser1)]]).reset_index(drop=True))"
   ]
  },
  {
   "cell_type": "markdown",
   "metadata": {},
   "source": [
    "## Упражнение № 7\n",
    "\n",
    "Вычислите минимальное значение, 25-й процентиль, медиану, 75-й процентиль и максимальное значение `ser`.\n",
    "\n",
    "Пример входных данных:\n",
    "\n",
    "```python\n",
    "ser = pd.Series(np.random.normal(10, 5, 25))\n",
    "```"
   ]
  },
  {
   "cell_type": "code",
   "execution_count": null,
   "metadata": {},
   "outputs": [
    {
     "name": "stdout",
     "output_type": "stream",
     "text": [
      "Минимальное значение: -3.280812111847931\n",
      " 25-й процентиль: 4.824573184577854\n",
      " Медиана: 7.509448577914154\n",
      " 75-й процентиль: 14.593611747228993\n",
      " Максимальное значение: 17.232933928407174\n"
     ]
    }
   ],
   "source": [
    "ser = pd.Series(np.random.normal(10, 5, 25))\n",
    "\n",
    "print(f\"Минимальное значение: {ser.min()}\\n\", f\"25-й процентиль: {ser.quantile(0.25)}\\n\", f\"Медиана: {ser.median()}\\n\", f\"75-й процентиль: {ser.quantile(0.75)}\\n\", f\"Максимальное значение: {ser.max()}\")"
   ]
  },
  {
   "cell_type": "markdown",
   "metadata": {},
   "source": [
    "## Упражнение № 8\n",
    "\n",
    "Вычислите частоту встречаемости каждого уникального значения `ser`.\n",
    "\n",
    "Пример входных данных:\n",
    "\n",
    "```python\n",
    "ser = pd.Series(np.take(list('abcdefgh'), np.random.randint(8, size=30)))\n",
    "```"
   ]
  },
  {
   "cell_type": "code",
   "execution_count": null,
   "metadata": {},
   "outputs": [
    {
     "name": "stdout",
     "output_type": "stream",
     "text": [
      "c    0.166667\n",
      "e    0.166667\n",
      "d    0.133333\n",
      "b    0.133333\n",
      "g    0.133333\n",
      "h    0.133333\n",
      "a    0.066667\n",
      "f    0.066667\n",
      "Name: proportion, dtype: float64\n"
     ]
    }
   ],
   "source": [
    "ser = pd.Series(np.take(list('abcdefgh'), np.random.randint(8, size=30)))\n",
    "print(ser.value_counts(normalize=True))"
   ]
  },
  {
   "cell_type": "markdown",
   "metadata": {},
   "source": [
    "## Упражнение № 9\n",
    "\n",
    "Из `ser` оставить 2 наиболее часто встречающихся элемента без изменений, а все остальные заменить на `Прочее`.\n",
    "\n",
    "Пример входных данных:\n",
    "\n",
    "```python\n",
    "np.random.RandomState(100)\n",
    "ser = pd.Series(np.random.randint(1, 5, [12]))\n",
    "```\n"
   ]
  },
  {
   "cell_type": "code",
   "execution_count": null,
   "metadata": {},
   "outputs": [
    {
     "name": "stdout",
     "output_type": "stream",
     "text": [
      "0          2\n",
      "1          3\n",
      "2     Прочее\n",
      "3          3\n",
      "4          3\n",
      "5          3\n",
      "6          2\n",
      "7     Прочее\n",
      "8          3\n",
      "9          2\n",
      "10         2\n",
      "11         3\n",
      "dtype: object\n"
     ]
    }
   ],
   "source": [
    "np.random.RandomState(100)\n",
    "ser = pd.Series(np.random.randint(1, 5, [12]))\n",
    "\n",
    "freq = ser.value_counts()\n",
    "most_common = freq.index[:2]\n",
    "print(ser.apply(lambda x: x if x in most_common else 'Прочее'))"
   ]
  },
  {
   "cell_type": "markdown",
   "metadata": {},
   "source": [
    "# Упражнение № 10\n",
    "\n",
    "Разбейте ряд `ser` на 10 равных децилей и замените значения на название дециля.\n",
    "\n",
    "Пример входных данных:\n",
    "\n",
    "```python\n",
    "ser = pd.Series(np.random.random(20))\n",
    "```\n",
    "\n",
    "Пример выходных данных:\n",
    "\n",
    "```python\n",
    "# First 5 items\n",
    "0    7th\n",
    "1    9th\n",
    "2    7th\n",
    "3    3rd\n",
    "4    8th\n",
    "dtype: category\n",
    "Categories (10, object): [1st < 2nd < 3rd < 4th ... 7th < 8th < 9th < 10th]\n",
    "```\n"
   ]
  },
  {
   "cell_type": "code",
   "execution_count": null,
   "metadata": {},
   "outputs": [
    {
     "name": "stdout",
     "output_type": "stream",
     "text": [
      "0      Дециль_№2\n",
      "1      Дециль_№1\n",
      "2      Дециль_№3\n",
      "3      Дециль_№7\n",
      "4      Дециль_№2\n",
      "5      Дециль_№8\n",
      "6      Дециль_№3\n",
      "7      Дециль_№9\n",
      "8      Дециль_№4\n",
      "9      Дециль_№4\n",
      "10    Дециль_№10\n",
      "11     Дециль_№9\n",
      "12     Дециль_№5\n",
      "13     Дециль_№7\n",
      "14     Дециль_№8\n",
      "15     Дециль_№6\n",
      "16     Дециль_№5\n",
      "17     Дециль_№1\n",
      "18    Дециль_№10\n",
      "19     Дециль_№6\n",
      "dtype: category\n",
      "Categories (10, object): ['Дециль_№1' < 'Дециль_№2' < 'Дециль_№3' < 'Дециль_№4' ... 'Дециль_№7' < 'Дециль_№8' < 'Дециль_№9' < 'Дециль_№10']\n"
     ]
    }
   ],
   "source": [
    "ser = pd.Series(np.random.random(20))\n",
    "\n",
    "print(pd.qcut(ser, 10, labels=[f\"Дециль_№{i+1}\" for i in range(10)]))"
   ]
  },
  {
   "cell_type": "markdown",
   "metadata": {},
   "source": [
    "## Упражнение № 11\n",
    "\n",
    "Переформируйте ряд `ser` в датафрейм с 7 строками и 5 столбцами\n",
    "\n",
    "Пример входных данных:\n",
    "\n",
    "```python\n",
    "ser = pd.Series(np.random.randint(1, 10, 35))\n",
    "```"
   ]
  },
  {
   "cell_type": "code",
   "execution_count": null,
   "metadata": {},
   "outputs": [
    {
     "name": "stdout",
     "output_type": "stream",
     "text": [
      "   0  1  2  3  4\n",
      "0  4  8  4  7  3\n",
      "1  7  9  6  2  6\n",
      "2  6  1  2  5  8\n",
      "3  7  9  8  7  3\n",
      "4  9  5  3  6  8\n",
      "5  7  5  8  5  8\n",
      "6  1  7  6  5  1\n"
     ]
    }
   ],
   "source": [
    "ser = pd.Series(np.random.randint(1, 10, 35))\n",
    "\n",
    "print(pd.DataFrame(ser.values.reshape(7, 5)))"
   ]
  },
  {
   "cell_type": "markdown",
   "metadata": {},
   "source": [
    "## Упражнение № 12\n",
    "\n",
    "Найти позиции чисел, кратных 3, из ряда `ser`.\n",
    "\n",
    "Пример входных данных:\n",
    "\n",
    "```python\n",
    "ser = pd.Series(np.random.randint(1, 10, 7))\n",
    "```\n"
   ]
  },
  {
   "cell_type": "code",
   "execution_count": null,
   "metadata": {},
   "outputs": [
    {
     "name": "stdout",
     "output_type": "stream",
     "text": [
      "Серия:\n",
      " 0    4\n",
      "1    2\n",
      "2    2\n",
      "3    3\n",
      "4    2\n",
      "5    4\n",
      "6    9\n",
      "dtype: int32\n",
      "Позиции чисел, кратных 3: Index([3, 6], dtype='int64')\n"
     ]
    }
   ],
   "source": [
    "ser = pd.Series(np.random.randint(1, 10, 7))\n",
    "\n",
    "print(\"Серия:\\n\", ser)\n",
    "print(\"Позиции чисел, кратных 3:\", ser[ser % 3 == 0].index)"
   ]
  },
  {
   "cell_type": "markdown",
   "metadata": {},
   "source": [
    "## Упражнение № 13\n",
    "\n",
    "Из `ser` извлечь элементы, находящиеся на позициях в списке `pos`.\n",
    "\n",
    "Пример входных данных:\n",
    "\n",
    "```python\n",
    "ser = pd.Series(list('abcdefghijklmnopqrstuvwxyz'))\n",
    "pos = [0, 4, 8, 14, 20]\n",
    "```"
   ]
  },
  {
   "cell_type": "code",
   "execution_count": null,
   "metadata": {},
   "outputs": [
    {
     "name": "stdout",
     "output_type": "stream",
     "text": [
      "0     a\n",
      "4     e\n",
      "8     i\n",
      "14    o\n",
      "20    u\n",
      "dtype: object\n"
     ]
    }
   ],
   "source": [
    "ser = pd.Series(list('abcdefghijklmnopqrstuvwxyz'))\n",
    "pos = [0, 4, 8, 14, 20]\n",
    "\n",
    "print(ser.take(pos))"
   ]
  },
  {
   "cell_type": "markdown",
   "metadata": {},
   "source": [
    "## Упражнение № 14\n",
    "\n",
    "Объедините `ser1` и `ser2` по вертикали и горизонтали (чтобы сформировать датафрейм).\n",
    "\n",
    "Пример входных данных:\n",
    "\n",
    "```python\n",
    "ser1 = pd.Series(range(5))\n",
    "ser2 = pd.Series(list('abcde'))\n",
    "```"
   ]
  },
  {
   "cell_type": "code",
   "execution_count": null,
   "metadata": {},
   "outputs": [
    {
     "name": "stdout",
     "output_type": "stream",
     "text": [
      "Объединение по горизонтали:\n",
      "    0  1\n",
      "0  0  a\n",
      "1  1  b\n",
      "2  2  c\n",
      "3  3  d\n",
      "4  4  e\n",
      "\n",
      "Объединение по вертикали:\n",
      " 0    0\n",
      "1    1\n",
      "2    2\n",
      "3    3\n",
      "4    4\n",
      "5    a\n",
      "6    b\n",
      "7    c\n",
      "8    d\n",
      "9    e\n",
      "dtype: object\n"
     ]
    }
   ],
   "source": [
    "ser1 = pd.Series(range(5))\n",
    "ser2 = pd.Series(list('abcde'))\n",
    "\n",
    "df_horizontal = pd.concat([ser1, ser2], axis=1)\n",
    "print(\"Объединение по горизонтали:\\n\", df_horizontal)\n",
    "\n",
    "df_vertical = pd.concat([ser1, ser2], axis=0).reset_index(drop=True)\n",
    "print(\"\\nОбъединение по вертикали:\\n\", df_vertical)"
   ]
  },
  {
   "cell_type": "markdown",
   "metadata": {},
   "source": [
    "## Упражнение № 15\n",
    "\n",
    "Получите позиции элементов `ser2` в `ser1` в виде списка.\n",
    "\n",
    "Пример входных данных:\n",
    "\n",
    "```python\n",
    "ser1 = pd.Series([10, 9, 6, 5, 3, 1, 12, 8, 13])\n",
    "ser2 = pd.Series([1, 3, 10, 13])\n",
    "```"
   ]
  },
  {
   "cell_type": "code",
   "execution_count": null,
   "metadata": {},
   "outputs": [
    {
     "name": "stdout",
     "output_type": "stream",
     "text": [
      "[5, 4, 0, 8]\n"
     ]
    }
   ],
   "source": [
    "ser1 = pd.Series([10, 9, 6, 5, 3, 1, 12, 8, 13])\n",
    "ser2 = pd.Series([1, 3, 10, 13])\n",
    "\n",
    "print([int(ser1[ser1 == value].index[0]) for value in ser2])"
   ]
  },
  {
   "cell_type": "markdown",
   "metadata": {},
   "source": [
    "## Упражнение № 16\n",
    "\n",
    "Вычислить среднеквадратическую ошибку рядов `truth` и `pred`.\n",
    "\n",
    "Пример входных данных:\n",
    "\n",
    "```python\n",
    "truth = pd.Series(range(10))\n",
    "pred = pd.Series(range(10)) + np.random.random(10)\n",
    "```"
   ]
  },
  {
   "cell_type": "code",
   "execution_count": null,
   "metadata": {},
   "outputs": [
    {
     "name": "stdout",
     "output_type": "stream",
     "text": [
      "0.23894533935993195\n"
     ]
    }
   ],
   "source": [
    "truth = pd.Series(range(10))\n",
    "pred = pd.Series(range(10)) + np.random.random(10)\n",
    "\n",
    "print(((truth - pred) ** 2).mean())"
   ]
  },
  {
   "cell_type": "markdown",
   "metadata": {},
   "source": [
    "## Упражнение № 17\n",
    "\n",
    "В каждом слове `ser` поставьте первый символ каждого слова в верхний регистр.\n",
    "\n",
    "```python\n",
    "ser = pd.Series(['how', 'to', 'kick', 'ass?'])\n",
    "```\n"
   ]
  },
  {
   "cell_type": "code",
   "execution_count": null,
   "metadata": {},
   "outputs": [
    {
     "name": "stdout",
     "output_type": "stream",
     "text": [
      "0     How\n",
      "1      To\n",
      "2    Kick\n",
      "3    Ass?\n",
      "dtype: object\n"
     ]
    }
   ],
   "source": [
    "ser = pd.Series(['how', 'to', 'kick', 'ass?'])\n",
    "\n",
    "print(ser.str.capitalize())"
   ]
  },
  {
   "cell_type": "markdown",
   "metadata": {},
   "source": [
    "## Упражнение № 18\n",
    "\n",
    "В каждом слове `ser` посчитайте число символов.\n",
    "\n",
    "Пример входных данных:\n",
    "\n",
    "```python\n",
    "ser = pd.Series(['how', 'to', 'kick', 'ass?'])\n",
    "```"
   ]
  },
  {
   "cell_type": "code",
   "execution_count": null,
   "metadata": {},
   "outputs": [
    {
     "name": "stdout",
     "output_type": "stream",
     "text": [
      "0    3\n",
      "1    2\n",
      "2    4\n",
      "3    4\n",
      "dtype: int64\n"
     ]
    }
   ],
   "source": [
    "ser = pd.Series(['how', 'to', 'kick', 'ass?'])\n",
    "\n",
    "print(ser.apply(len))"
   ]
  },
  {
   "cell_type": "markdown",
   "metadata": {},
   "source": [
    "## Упражнение № 19\n",
    "\n",
    "Вычислите разность разностей между последовательно идущими числами в `ser`.\n",
    "\n",
    "Пример входных данных:\n",
    "\n",
    "```python\n",
    "ser = pd.Series([1, 3, 6, 10, 15, 21, 27, 35])\n",
    "```\n",
    "\n",
    "Пример выходных данных:\n",
    "\n",
    "```\n",
    "[nan, 2.0, 3.0, 4.0, 5.0, 6.0, 6.0, 8.0]\n",
    "[nan, nan, 1.0, 1.0, 1.0, 1.0, 0.0, 2.0]\n",
    "```"
   ]
  },
  {
   "cell_type": "code",
   "execution_count": null,
   "metadata": {},
   "outputs": [
    {
     "name": "stdout",
     "output_type": "stream",
     "text": [
      "Первая разность:\n",
      " [nan, 2.0, 3.0, 4.0, 5.0, 6.0, 6.0, 8.0]\n",
      "Вторая разность:\n",
      " [nan, nan, 1.0, 1.0, 1.0, 1.0, 0.0, 2.0]\n"
     ]
    }
   ],
   "source": [
    "ser = pd.Series([1, 3, 6, 10, 15, 21, 27, 35])\n",
    "\n",
    "print(\"Первая разность:\\n\", ser.diff().to_list())\n",
    "print(\"Вторая разность:\\n\", ser.diff().diff().to_list())"
   ]
  },
  {
   "cell_type": "markdown",
   "metadata": {},
   "source": [
    "## Упражнение № 20\n",
    "\n",
    "Преобразуйте строковое представление дат в `datetime64`.\n",
    "\n",
    "Пример входных данных:\n",
    "\n",
    "```python\n",
    "ser = pd.Series(['01 Jan 2010', '02-02-2011', '20120303', '2013/04/04', '2014-05-05', '2015-06-06T12:20'])\n",
    "```\n",
    "\n",
    "Пример выходных данных:\n",
    "\n",
    "```\n",
    "0   2010-01-01 00:00:00\n",
    "1   2011-02-02 00:00:00\n",
    "2   2012-03-03 00:00:00\n",
    "3   2013-04-04 00:00:00\n",
    "4   2014-05-05 00:00:00\n",
    "5   2015-06-06 12:20:00\n",
    "dtype: datetime64[ns]\n",
    "```"
   ]
  },
  {
   "cell_type": "code",
   "execution_count": null,
   "metadata": {},
   "outputs": [
    {
     "name": "stdout",
     "output_type": "stream",
     "text": [
      "0   2010-01-01 00:00:00\n",
      "1   2011-02-02 00:00:00\n",
      "2   2012-03-03 00:00:00\n",
      "3   2013-04-04 00:00:00\n",
      "4   2014-05-05 00:00:00\n",
      "5   2015-06-06 12:20:00\n",
      "dtype: datetime64[ns]\n"
     ]
    }
   ],
   "source": [
    "ser = pd.Series(['01 Jan 2010', '02-02-2011', '20120303', '2013/04/04', '2014-05-05', '2015-06-06T12:20'])\n",
    "\n",
    "from dateutil import parser\n",
    "print(ser.apply(lambda x: parser.parse(x)))"
   ]
  },
  {
   "cell_type": "markdown",
   "metadata": {},
   "source": [
    "## Упражнение № 21\n",
    "\n",
    "Получите из `ser` день месяца, номер недели, день года и день недели.\n",
    "\n",
    "Пример входных данных:\n",
    "\n",
    "```python\n",
    "ser = pd.Series(['01 Jan 2010', '02-02-2011', '20120303', '2013/04/04', '2014-05-05', '2015-06-06T12:20'])\n",
    "```\n",
    "\n",
    "Пример выходных данных:\n",
    "\n",
    "```\n",
    "Date:  [1, 2, 3, 4, 5, 6]\n",
    "Week number:  [53, 5, 9, 14, 19, 23]\n",
    "Day num of year:  [1, 33, 63, 94, 125, 157]\n",
    "Day of week:  ['Friday', 'Wednesday', 'Saturday', 'Thursday', 'Monday', 'Saturday']\n",
    "```"
   ]
  },
  {
   "cell_type": "code",
   "execution_count": null,
   "metadata": {},
   "outputs": [
    {
     "name": "stdout",
     "output_type": "stream",
     "text": [
      "Номер дня в месяце: [1, 2, 3, 4, 5, 6]\n",
      "Номер недели: [53, 5, 9, 14, 19, 23]\n",
      "Номер дня в году: [1, 33, 63, 94, 125, 157]\n",
      "День недели: ['Friday', 'Wednesday', 'Saturday', 'Thursday', 'Monday', 'Saturday']\n"
     ]
    }
   ],
   "source": [
    "ser = pd.Series(['01 Jan 2010', '02-02-2011', '20120303', '2013/04/04', '2014-05-05', '2015-06-06T12:20'])\n",
    "\n",
    "from dateutil import parser\n",
    "ser_datetime = ser.apply(lambda x: parser.parse(x))\n",
    "day_of_month = ser_datetime.dt.day.tolist()\n",
    "week_number = ser_datetime.dt.isocalendar().week.tolist()\n",
    "day_of_year = ser_datetime.dt.dayofyear.tolist()\n",
    "day_of_week = ser_datetime.dt.day_name().tolist()\n",
    "\n",
    "print(\"Номер дня в месяце:\", day_of_month)\n",
    "print(\"Номер недели:\", week_number)\n",
    "print(\"Номер дня в году:\", day_of_year)\n",
    "print(\"День недели:\", day_of_week)"
   ]
  },
  {
   "cell_type": "markdown",
   "metadata": {},
   "source": [
    "## Упражнение № 22\n",
    "\n",
    "Замените элементы `ser` на даты, начинающиеся с 4-го числа соответствующего месяца.\n",
    "\n",
    "Пример входных данных:\n",
    "\n",
    "```python\n",
    "ser = pd.Series(['Jan 2010', 'Feb 2011', 'Mar 2012'])\n",
    "```\n",
    "\n",
    "Пример выходных данных:\n",
    "\n",
    "```\n",
    "0   2010-01-04\n",
    "1   2011-02-04\n",
    "2   2012-03-04\n",
    "dtype: datetime64[ns]\n",
    "```"
   ]
  },
  {
   "cell_type": "code",
   "execution_count": null,
   "metadata": {},
   "outputs": [
    {
     "name": "stdout",
     "output_type": "stream",
     "text": [
      "0   2010-01-04\n",
      "1   2011-02-04\n",
      "2   2012-03-04\n",
      "dtype: datetime64[ns]\n"
     ]
    }
   ],
   "source": [
    "ser = pd.Series(['Jan 2010', 'Feb 2011', 'Mar 2012'])\n",
    "\n",
    "from dateutil import parser\n",
    "print(ser.apply(lambda x: parser.parse('04 ' + x)))"
   ]
  },
  {
   "cell_type": "markdown",
   "metadata": {},
   "source": [
    "## Упражнение № 23\n",
    "\n",
    "Из `ser` извлеките слова, содержащие не менее 2 гласных букв.\n",
    "\n",
    "Пример входных данных:\n",
    "\n",
    "```python\n",
    "ser = pd.Series(['Apple', 'Orange', 'Plan', 'Python', 'Money'])\n",
    "```\n",
    "\n",
    "Пример выходных данных:\n",
    "\n",
    "```\n",
    "0     Apple\n",
    "1    Orange\n",
    "4     Money\n",
    "dtype: object\n",
    "```"
   ]
  },
  {
   "cell_type": "code",
   "execution_count": null,
   "metadata": {},
   "outputs": [
    {
     "name": "stdout",
     "output_type": "stream",
     "text": [
      "0     Apple\n",
      "1    Orange\n",
      "3    Python\n",
      "4     Money\n",
      "dtype: object\n"
     ]
    }
   ],
   "source": [
    "ser = pd.Series(['Apple', 'Orange', 'Plan', 'Python', 'Money'])\n",
    "\n",
    "def count_vowels(word):\n",
    "    return sum(1 for char in word.lower() if char in 'aeiouy') \n",
    "\n",
    "print(ser[ser.apply(count_vowels) >= 2])"
   ]
  },
  {
   "cell_type": "markdown",
   "metadata": {},
   "source": [
    "## Упражнение № 24\n",
    "\n",
    "Извлеките корректные адреса электронной почты из ряда `emails`. Шаблон регулярного выражения для корректных адресов электронной почты приведен в качестве образца.\n",
    "\n",
    "Пример входных данных:\n",
    "\n",
    "```python\n",
    "emails = pd.Series(['buying books at amazom.com', 'rameses@egypt.com', 'matt@t.co', 'narendra@modi.com'])\n",
    "pattern ='[A-Za-z0-9._%+-]+@[A-Za-z0-9.-]+\\\\.[A-Za-z]{2,4}'\n",
    "```\n",
    "\n",
    "Пример выходных данных:\n",
    "\n",
    "```\n",
    "1    rameses@egypt.com\n",
    "2            matt@t.co\n",
    "3    narendra@modi.com\n",
    "dtype: object\n",
    "```"
   ]
  },
  {
   "cell_type": "code",
   "execution_count": null,
   "metadata": {},
   "outputs": [
    {
     "name": "stdout",
     "output_type": "stream",
     "text": [
      "1    rameses@egypt.com\n",
      "2            matt@t.co\n",
      "3    narendra@modi.com\n",
      "dtype: object\n"
     ]
    }
   ],
   "source": [
    "emails = pd.Series(['buying books at amazom.com', 'rameses@egypt.com', 'matt@t.co', 'narendra@modi.com'])\n",
    "pattern ='[A-Za-z0-9._%+-]+@[A-Za-z0-9.-]+\\\\.[A-Za-z]{2,4}'\n",
    "\n",
    "import re\n",
    "print(emails[emails.apply(lambda x: re.match(pattern, x) is not None)])"
   ]
  },
  {
   "cell_type": "markdown",
   "metadata": {},
   "source": [
    "## Упражнение № 25\n",
    "\n",
    "Вычислить среднее значение веса в `weights` для каждого фрукта из `fruit`.\n",
    "\n",
    "Пример входных данных:\n",
    "\n",
    "```python\n",
    "fruit = pd.Series(np.random.choice(['apple', 'banana', 'carrot'], 10))\n",
    "weights = pd.Series(np.linspace(1, 10, 10))\n",
    "print(weight.tolist())\n",
    "print(fruit.tolist())\n",
    "#> [1.0, 2.0, 3.0, 4.0, 5.0, 6.0, 7.0, 8.0, 9.0, 10.0]\n",
    "#> ['banana', 'carrot', 'apple', 'carrot', 'carrot', 'apple', 'banana', 'carrot', 'apple', 'carrot']\n",
    "```\n",
    "\n",
    "Пример выходных данных:\n",
    "\n",
    "```python\n",
    "# values can change due to randomness\n",
    "apple     6.0\n",
    "banana    4.0\n",
    "carrot    5.8\n",
    "dtype: float64\n",
    "```"
   ]
  },
  {
   "cell_type": "code",
   "execution_count": null,
   "metadata": {},
   "outputs": [
    {
     "name": "stdout",
     "output_type": "stream",
     "text": [
      "[1.0, 2.0, 3.0, 4.0, 5.0, 6.0, 7.0, 8.0, 9.0, 10.0]\n",
      "['carrot', 'carrot', 'banana', 'carrot', 'banana', 'carrot', 'banana', 'apple', 'apple', 'carrot']\n",
      "apple     8.5\n",
      "banana    5.0\n",
      "carrot    4.6\n",
      "dtype: float64\n"
     ]
    }
   ],
   "source": [
    "fruit = pd.Series(np.random.choice(['apple', 'banana', 'carrot'], 10))\n",
    "weights = pd.Series(np.linspace(1, 10, 10))\n",
    "print(weights.tolist())\n",
    "print(fruit.tolist())\n",
    "\n",
    "print(weights.groupby(fruit).mean())"
   ]
  },
  {
   "cell_type": "markdown",
   "metadata": {},
   "source": [
    "## Упражнение № 26\n",
    "\n",
    "Вычислить [евклидово расстояние](https://en.wikipedia.org/wiki/Euclidean_distance) между векторами $p$ и $q$, не используя встроенную формулу.\n",
    "\n",
    "Пример входных данных:\n",
    "\n",
    "```python\n",
    "p = pd.Series([1, 2, 3, 4, 5, 6, 7, 8, 9, 10])\n",
    "q = pd.Series([10, 9, 8, 7, 6, 5, 4, 3, 2, 1])\n",
    "```\n",
    "\n",
    "Пример выходных данных:\n",
    "\n",
    "```\n",
    "18.165\n",
    "```"
   ]
  },
  {
   "cell_type": "code",
   "execution_count": null,
   "metadata": {},
   "outputs": [
    {
     "name": "stdout",
     "output_type": "stream",
     "text": [
      "Евклидово расстояние: 18.16590212458495\n"
     ]
    }
   ],
   "source": [
    "p = pd.Series([1, 2, 3, 4, 5, 6, 7, 8, 9, 10])\n",
    "q = pd.Series([10, 9, 8, 7, 6, 5, 4, 3, 2, 1])\n",
    "\n",
    "print(\"Евклидово расстояние:\", np.sqrt(np.sum((p - q) ** 2)))"
   ]
  },
  {
   "cell_type": "markdown",
   "metadata": {},
   "source": [
    "## Упражнение № 27\n",
    "\n",
    "Получите позиции пиков (значений, окруженных с двух сторон меньшими значениями) в `ser`.\n",
    "\n",
    "Пример входных данных:\n",
    "\n",
    "```python\n",
    "ser = pd.Series([2, 10, 3, 4, 9, 10, 2, 7, 3])\n",
    "```\n",
    "\n",
    "Пример выходных данных:\n",
    "\n",
    "```\n",
    "array([1, 5, 7])\n",
    "```"
   ]
  },
  {
   "cell_type": "code",
   "execution_count": null,
   "metadata": {},
   "outputs": [
    {
     "name": "stdout",
     "output_type": "stream",
     "text": [
      "(array([1, 5, 7]),)\n"
     ]
    }
   ],
   "source": [
    "ser = pd.Series([2, 10, 3, 4, 9, 10, 2, 7, 3])\n",
    "\n",
    "print(np.where((ser.shift(1) < ser) & (ser.shift(-1) < ser)))"
   ]
  },
  {
   "cell_type": "markdown",
   "metadata": {},
   "source": [
    "## Упражнение № 28\n",
    "\n",
    "Замените пробелы в `my_str` на наименее часто встречающийся символ.\n",
    "\n",
    "Пример входных данных:\n",
    "\n",
    "```python\n",
    "my_str = 'dbc deb abed gade'\n",
    "```\n",
    "\n",
    "Пример выходных данных:\n",
    "\n",
    "```\n",
    "'dbccdebcabedcgade'  # least frequent is 'c'\n",
    "```"
   ]
  },
  {
   "cell_type": "code",
   "execution_count": null,
   "metadata": {},
   "outputs": [
    {
     "name": "stdout",
     "output_type": "stream",
     "text": [
      "dbccdebcabedcgade\n"
     ]
    }
   ],
   "source": [
    "my_str = 'dbc deb abed gade'\n",
    "\n",
    "from collections import Counter\n",
    "least_common_char = min(Counter(my_str.replace(' ', '')), key=Counter(my_str.replace(' ', '')).get) \n",
    "print(my_str.replace(' ', least_common_char))"
   ]
  },
  {
   "cell_type": "markdown",
   "metadata": {},
   "source": [
    "## Упражнение № 29\n",
    "\n",
    "Создайте временной ряд, начинающийся с `2000-01-01`, содержащий 10 субботних дней после этого и имеющий в качестве значений случайные числа\n",
    "\n",
    "Пример выходных данных:\n",
    "\n",
    "```\n",
    "# values can be random\n",
    "2000-01-01    4\n",
    "2000-01-08    1\n",
    "2000-01-15    8\n",
    "2000-01-22    4\n",
    "2000-01-29    4\n",
    "2000-02-05    2\n",
    "2000-02-12    4\n",
    "2000-02-19    9\n",
    "2000-02-26    6\n",
    "2000-03-04    6\n",
    "```\n"
   ]
  },
  {
   "cell_type": "code",
   "execution_count": null,
   "metadata": {},
   "outputs": [
    {
     "name": "stdout",
     "output_type": "stream",
     "text": [
      "2000-01-01    3\n",
      "2000-01-08    7\n",
      "2000-01-15    1\n",
      "2000-01-22    5\n",
      "2000-01-29    3\n",
      "2000-02-05    6\n",
      "2000-02-12    6\n",
      "2000-02-19    8\n",
      "2000-02-26    7\n",
      "2000-03-04    1\n",
      "Freq: W-SAT, dtype: int32\n"
     ]
    }
   ],
   "source": [
    "date_range = pd.date_range(start='2000-01-01', periods=10, freq='W-SAT') # Субботушка 😄\n",
    "random_values = np.random.randint(1, 10, size=10)\n",
    "print(pd.Series(data=random_values, index=date_range))"
   ]
  },
  {
   "cell_type": "markdown",
   "metadata": {},
   "source": [
    "## Упражнение № 30\n",
    "\n",
    "В `ser` отсутствуют некоторые даты и значения. Сделайте так, чтобы все отсутствующие даты появились и заполнились значением из предыдущей даты.\n",
    "\n",
    "Пример входных данных:\n",
    "\n",
    "```python\n",
    "ser = pd.Series([1,10,3,np.nan], index=pd.to_datetime(['2000-01-01', '2000-01-03', '2000-01-06', '2000-01-08']))\n",
    "print(ser)\n",
    "#> 2000-01-01     1.0\n",
    "#> 2000-01-03    10.0\n",
    "#> 2000-01-06     3.0\n",
    "#> 2000-01-08     NaN\n",
    "#> dtype: float64\n",
    "```\n",
    "\n",
    "Пример выходных данных:\n",
    "\n",
    "```\n",
    "2000-01-01     1.0\n",
    "2000-01-02     1.0\n",
    "2000-01-03    10.0\n",
    "2000-01-04    10.0\n",
    "2000-01-05    10.0\n",
    "2000-01-06     3.0\n",
    "2000-01-07     3.0\n",
    "2000-01-08     NaN\n",
    "```"
   ]
  },
  {
   "cell_type": "code",
   "execution_count": null,
   "metadata": {},
   "outputs": [
    {
     "name": "stdout",
     "output_type": "stream",
     "text": [
      "2000-01-01     1.0\n",
      "2000-01-03    10.0\n",
      "2000-01-06     3.0\n",
      "2000-01-08     NaN\n",
      "dtype: float64\n",
      "2000-01-01     1.0\n",
      "2000-01-02     1.0\n",
      "2000-01-03    10.0\n",
      "2000-01-04    10.0\n",
      "2000-01-05    10.0\n",
      "2000-01-06     3.0\n",
      "2000-01-07     3.0\n",
      "2000-01-08     NaN\n",
      "Freq: D, dtype: float64\n"
     ]
    }
   ],
   "source": [
    "ser = pd.Series([1,10,3,np.nan], index=pd.to_datetime(['2000-01-01', '2000-01-03', '2000-01-06', '2000-01-08']))\n",
    "print(ser)\n",
    "\n",
    "print(ser.resample('D').ffill())"
   ]
  },
  {
   "cell_type": "markdown",
   "metadata": {},
   "source": [
    "## Упражнение № 31\n",
    "\n",
    "Вычислите автокорреляции для первых 10 лагов `ser`. Определите, какой из лагов имеет наибольшую корреляцию. (см. также [Модель авторегрессии и распределённого лага — Википедия](https://ru.wikipedia.org/wiki/%D0%9C%D0%BE%D0%B4%D0%B5%D0%BB%D1%8C_%D0%B0%D0%B2%D1%82%D0%BE%D1%80%D0%B5%D0%B3%D1%80%D0%B5%D1%81%D1%81%D0%B8%D0%B8_%D0%B8_%D1%80%D0%B0%D1%81%D0%BF%D1%80%D0%B5%D0%B4%D0%B5%D0%BB%D1%91%D0%BD%D0%BD%D0%BE%D0%B3%D0%BE_%D0%BB%D0%B0%D0%B3%D0%B0))\n",
    "\n",
    "Пример входных данных:\n",
    "\n",
    "```python\n",
    "ser = pd.Series(np.arange(20) + np.random.normal(1, 10, 20))\n",
    "```\n",
    "\n",
    "Пример выходных данных:\n",
    "\n",
    "```\n",
    "# values will change due to randomness\n",
    "[0.29999999999999999, -0.11, -0.17000000000000001, 0.46000000000000002, 0.28000000000000003, -0.040000000000000001, -0.37, 0.41999999999999998, 0.47999999999999998, 0.17999999999999999]\n",
    "Lag having highest correlation:  9\n",
    "```"
   ]
  },
  {
   "cell_type": "code",
   "execution_count": null,
   "metadata": {},
   "outputs": [
    {
     "name": "stdout",
     "output_type": "stream",
     "text": [
      "Автокорреляции для первых 10 лагов: [0.44395870762817, 0.14232079293152106, 0.22310416417208817, 0.0934659915388928, 0.40892798579625006, 0.4540558415252963, 0.41753808759642114, 0.13351470062169224, -0.7836226588028383, -0.2589561456769878]\n",
      "Лаг с наибольшей корреляцией: 6\n"
     ]
    }
   ],
   "source": [
    "ser = pd.Series(np.arange(20) + np.random.normal(1, 10, 20))\n",
    "\n",
    "autocorrelations = [ser.autocorr(lag) for lag in range(1, 11)] \n",
    "max_lag = np.argmax(autocorrelations) + 1\n",
    "autocorrelations = [float(corr) for corr in autocorrelations] \n",
    "print(\"Автокорреляции для первых 10 лагов:\", autocorrelations)\n",
    "print(\"Лаг с наибольшей корреляцией:\", max_lag)"
   ]
  },
  {
   "cell_type": "markdown",
   "metadata": {},
   "source": [
    "## Упражнение № 32\n",
    "\n",
    "Импортируйте каждую 50-ю строку набора данных [BostonHousing dataset](https://raw.githubusercontent.com/selva86/datasets/master/BostonHousing.csv) в виде датафрейма.\n"
   ]
  },
  {
   "cell_type": "code",
   "execution_count": null,
   "metadata": {},
   "outputs": [
    {
     "name": "stdout",
     "output_type": "stream",
     "text": [
      "      crim  zn  indus  chas    nox     rm   age     dis  rad  tax  ptratio  \\\n",
      "0  0.21977   0   6.91     0  0.448  5.602  62.0  6.0877    3  233     17.9   \n",
      "1  0.06860   0   2.89     0  0.445  7.416  62.5  3.4952    2  276     18.0   \n",
      "2  2.73397   0  19.58     0  0.871  5.597  94.9  1.5257    5  403     14.7   \n",
      "3  0.03150  95   1.47     0  0.403  6.975  15.3  7.6534    3  402     17.0   \n",
      "4  0.19073  22   5.86     0  0.431  6.718  17.5  7.8265    7  330     19.1   \n",
      "5  0.05561  70   2.24     0  0.400  7.041  10.0  7.8278    5  358     14.8   \n",
      "6  0.02899  40   1.25     0  0.429  6.939  34.5  8.7921    1  335     19.7   \n",
      "7  9.91655   0  18.10     0  0.693  5.852  77.8  1.5004   24  666     20.2   \n",
      "8  7.52601   0  18.10     0  0.713  6.417  98.3  2.1850   24  666     20.2   \n",
      "9  0.17783   0   9.69     0  0.585  5.569  73.5  2.3999    6  391     19.2   \n",
      "\n",
      "        b  lstat  medv  \n",
      "0  396.90  16.20  19.4  \n",
      "1  396.90   6.19  33.2  \n",
      "2  351.85  21.45  15.4  \n",
      "3  396.90   4.56  34.9  \n",
      "4  393.74   6.56  26.2  \n",
      "5  371.58   4.74  29.0  \n",
      "6  389.85   5.89  26.6  \n",
      "7  338.16  29.97   6.3  \n",
      "8  304.21  19.31  13.0  \n",
      "9  395.77  15.10  17.5  \n"
     ]
    }
   ],
   "source": [
    "url = 'https://raw.githubusercontent.com/selva86/datasets/master/BostonHousing.csv'\n",
    "print(pd.read_csv(url, skiprows=lambda x: x % 50 != 0))"
   ]
  },
  {
   "cell_type": "markdown",
   "metadata": {},
   "source": [
    "## Упражнение № 33\n",
    "\n",
    "Импортируйте набор данных [boston housing dataset](https://raw.githubusercontent.com/selva86/datasets/master/BostonHousing.csv), но при импорте измените столбец `'medv'` (*median house value*) так, чтобы значения < 25 стали `Low`, а > 25 - `High`.\n"
   ]
  },
  {
   "cell_type": "code",
   "execution_count": null,
   "metadata": {},
   "outputs": [
    {
     "name": "stdout",
     "output_type": "stream",
     "text": [
      "      crim    zn  indus  chas    nox     rm   age     dis  rad  tax  ptratio  \\\n",
      "0  0.00632  18.0   2.31     0  0.538  6.575  65.2  4.0900    1  296     15.3   \n",
      "1  0.02731   0.0   7.07     0  0.469  6.421  78.9  4.9671    2  242     17.8   \n",
      "2  0.02729   0.0   7.07     0  0.469  7.185  61.1  4.9671    2  242     17.8   \n",
      "3  0.03237   0.0   2.18     0  0.458  6.998  45.8  6.0622    3  222     18.7   \n",
      "4  0.06905   0.0   2.18     0  0.458  7.147  54.2  6.0622    3  222     18.7   \n",
      "\n",
      "        b  lstat  medv  \n",
      "0  396.90   4.98   Low  \n",
      "1  396.90   9.14   Low  \n",
      "2  392.83   4.03  High  \n",
      "3  394.63   2.94  High  \n",
      "4  396.90   5.33  High  \n"
     ]
    }
   ],
   "source": [
    "df = pd.read_csv('https://raw.githubusercontent.com/selva86/datasets/master/BostonHousing.csv')\n",
    "df['medv'] = df['medv'].apply(lambda x: 'Low' if x < 25 else 'High')\n",
    "print(df.head()) # CSV-шка большая, выведем лишь немного"
   ]
  },
  {
   "cell_type": "markdown",
   "metadata": {},
   "source": [
    "## Упражнение № 34\n",
    "\n",
    "Создайте датафрейм со строками в виде шагов (интервалов) заданного ряда\n",
    "\n",
    "Пример входных данных:\n",
    "\n",
    "```python\n",
    "L = pd.Series(range(15))\n",
    "```\n",
    "\n",
    "Пример выходных данных:\n",
    "\n",
    "```\n",
    "array([[ 0,  1,  2,  3],\n",
    "       [ 2,  3,  4,  5],\n",
    "       [ 4,  5,  6,  7],\n",
    "       [ 6,  7,  8,  9],\n",
    "       [ 8,  9, 10, 11],\n",
    "       [10, 11, 12, 13]])\n",
    "```"
   ]
  },
  {
   "cell_type": "code",
   "execution_count": null,
   "metadata": {},
   "outputs": [
    {
     "name": "stdout",
     "output_type": "stream",
     "text": [
      "    0   1   2   3\n",
      "0   0   1   2   3\n",
      "1   2   3   4   5\n",
      "2   4   5   6   7\n",
      "3   6   7   8   9\n",
      "4   8   9  10  11\n",
      "5  10  11  12  13\n"
     ]
    }
   ],
   "source": [
    "L = pd.Series(range(15))\n",
    "\n",
    "def create_steps(series, step_size, window_size):\n",
    "    return np.array([series[i: i + window_size] for i in range(0, len(series) - window_size + 1, step_size)])\n",
    "\n",
    "print(pd.DataFrame(create_steps(L, step_size=2, window_size=4)))"
   ]
  },
  {
   "cell_type": "markdown",
   "metadata": {},
   "source": [
    "## Упражнение № 35\n",
    "\n",
    "Импортируйте столбцы 'crim' и 'medv' из набора данных [BostonHousing dataset](https://raw.githubusercontent.com/selva86/datasets/master/BostonHousing.csv) в виде датафрейма."
   ]
  },
  {
   "cell_type": "code",
   "execution_count": null,
   "metadata": {},
   "outputs": [
    {
     "name": "stdout",
     "output_type": "stream",
     "text": [
      "      crim  medv\n",
      "0  0.00632  24.0\n",
      "1  0.02731  21.6\n",
      "2  0.02729  34.7\n",
      "3  0.03237  33.4\n",
      "4  0.06905  36.2\n"
     ]
    }
   ],
   "source": [
    "df = pd.read_csv('https://raw.githubusercontent.com/selva86/datasets/master/BostonHousing.csv', usecols=['crim', 'medv'])\n",
    "print(df.head()) # CSV-шка большая, выведем лишь немного"
   ]
  },
  {
   "cell_type": "markdown",
   "metadata": {},
   "source": [
    "## Упражнение № 36\n",
    "\n",
    "Получите количество строк, столбцов, тип данных и суммарную статистику каждого столбца набора данных [Cars93](https://raw.githubusercontent.com/selva86/datasets/master/Cars93_miss.csv). Также получите эквивалент датафрейма в виде numpy-массива и списка.\n"
   ]
  },
  {
   "cell_type": "code",
   "execution_count": null,
   "metadata": {},
   "outputs": [
    {
     "name": "stdout",
     "output_type": "stream",
     "text": [
      "Количество строк: 93\n",
      "Количество столбцов: 27\n",
      "\n",
      "Типы данных каждого столбца:\n",
      "Manufacturer           object\n",
      "Model                  object\n",
      "Type                   object\n",
      "Min.Price             float64\n",
      "Price                 float64\n",
      "Max.Price             float64\n",
      "MPG.city              float64\n",
      "MPG.highway           float64\n",
      "AirBags                object\n",
      "DriveTrain             object\n",
      "Cylinders              object\n",
      "EngineSize            float64\n",
      "Horsepower            float64\n",
      "RPM                   float64\n",
      "Rev.per.mile          float64\n",
      "Man.trans.avail        object\n",
      "Fuel.tank.capacity    float64\n",
      "Passengers            float64\n",
      "Length                float64\n",
      "Wheelbase             float64\n",
      "Width                 float64\n",
      "Turn.circle           float64\n",
      "Rear.seat.room        float64\n",
      "Luggage.room          float64\n",
      "Weight                float64\n",
      "Origin                 object\n",
      "Make                   object\n",
      "dtype: object\n",
      "\n",
      "Суммарная статистика каждого столбца:\n",
      "       Min.Price      Price  Max.Price   MPG.city  MPG.highway  EngineSize  \\\n",
      "count  86.000000  91.000000  88.000000  84.000000    91.000000   91.000000   \n",
      "mean   17.118605  19.616484  21.459091  22.404762    29.065934    2.658242   \n",
      "std     8.828290   9.724280  10.696563   5.841520     5.370293    1.045845   \n",
      "min     6.700000   7.400000   7.900000  15.000000    20.000000    1.000000   \n",
      "25%    10.825000  12.350000  14.575000  18.000000    26.000000    1.800000   \n",
      "50%    14.600000  17.700000  19.150000  21.000000    28.000000    2.300000   \n",
      "75%    20.250000  23.500000  24.825000  25.000000    31.000000    3.250000   \n",
      "max    45.400000  61.900000  80.000000  46.000000    50.000000    5.700000   \n",
      "\n",
      "       Horsepower          RPM  Rev.per.mile  Fuel.tank.capacity  Passengers  \\\n",
      "count   86.000000    90.000000     87.000000           85.000000   91.000000   \n",
      "mean   144.000000  5276.666667   2355.000000           16.683529    5.076923   \n",
      "std     53.455204   605.554811    486.916616            3.375748    1.045953   \n",
      "min     55.000000  3800.000000   1320.000000            9.200000    2.000000   \n",
      "25%    100.750000  4800.000000   2017.500000           14.500000    4.000000   \n",
      "50%    140.000000  5200.000000   2360.000000           16.500000    5.000000   \n",
      "75%    170.000000  5787.500000   2565.000000           19.000000    6.000000   \n",
      "max    300.000000  6500.000000   3755.000000           27.000000    8.000000   \n",
      "\n",
      "           Length   Wheelbase      Width  Turn.circle  Rear.seat.room  \\\n",
      "count   89.000000   92.000000  87.000000    88.000000       89.000000   \n",
      "mean   182.865169  103.956522  69.448276    38.954545       27.853933   \n",
      "std     14.792651    6.856317   3.778023     3.304157        3.018129   \n",
      "min    141.000000   90.000000  60.000000    32.000000       19.000000   \n",
      "25%    174.000000   98.000000  67.000000    36.000000       26.000000   \n",
      "50%    181.000000  103.000000  69.000000    39.000000       27.500000   \n",
      "75%    192.000000  110.000000  72.000000    42.000000       30.000000   \n",
      "max    219.000000  119.000000  78.000000    45.000000       36.000000   \n",
      "\n",
      "       Luggage.room       Weight  \n",
      "count     74.000000    86.000000  \n",
      "mean      13.986486  3104.593023  \n",
      "std        3.120824   600.129993  \n",
      "min        6.000000  1695.000000  \n",
      "25%       12.000000  2647.500000  \n",
      "50%       14.000000  3085.000000  \n",
      "75%       16.000000  3567.500000  \n",
      "max       22.000000  4105.000000  \n",
      "\n",
      "Эквивалент DataFrame в виде numpy-массива:\n",
      "[['Acura' 'Integra' 'Small' ... 2705.0 'non-USA' 'Acura Integra']\n",
      " [nan 'Legend' 'Midsize' ... 3560.0 'non-USA' 'Acura Legend']\n",
      " ['Audi' '90' 'Compact' ... 3375.0 'non-USA' 'Audi 90']\n",
      " ...\n",
      " ['Volkswagen' 'Corrado' 'Sporty' ... 2810.0 'non-USA'\n",
      "  'Volkswagen Corrado']\n",
      " ['Volvo' '240' 'Compact' ... 2985.0 'non-USA' 'Volvo 240']\n",
      " [nan '850' 'Midsize' ... 3245.0 'non-USA' 'Volvo 850']]\n",
      "\n",
      "Эквивалент DataFrame в виде списка:\n",
      "[['Acura', 'Integra', 'Small', 12.9, 15.9, 18.8, 25.0, 31.0, nan, 'Front', '4', 1.8, 140.0, 6300.0, 2890.0, 'Yes', 13.2, 5.0, 177.0, 102.0, 68.0, 37.0, 26.5, nan, 2705.0, 'non-USA', 'Acura Integra'], [nan, 'Legend', 'Midsize', 29.2, 33.9, 38.7, 18.0, 25.0, 'Driver & Passenger', 'Front', '6', 3.2, 200.0, 5500.0, 2335.0, 'Yes', 18.0, 5.0, 195.0, 115.0, 71.0, 38.0, 30.0, 15.0, 3560.0, 'non-USA', 'Acura Legend'], ['Audi', '90', 'Compact', 25.9, 29.1, 32.3, 20.0, 26.0, 'Driver only', 'Front', '6', 2.8, 172.0, 5500.0, 2280.0, 'Yes', 16.9, 5.0, 180.0, 102.0, 67.0, 37.0, 28.0, 14.0, 3375.0, 'non-USA', 'Audi 90'], ['Audi', '100', 'Midsize', nan, 37.7, 44.6, 19.0, 26.0, 'Driver & Passenger', nan, '6', nan, 172.0, 5500.0, 2535.0, nan, 21.1, 6.0, 193.0, 106.0, nan, 37.0, 31.0, 17.0, 3405.0, 'non-USA', 'Audi 100'], ['BMW', '535i', 'Midsize', nan, 30.0, nan, 22.0, 30.0, nan, 'Rear', '4', 3.5, 208.0, 5700.0, 2545.0, 'Yes', 21.1, 4.0, 186.0, 109.0, 69.0, 39.0, 27.0, 13.0, 3640.0, 'non-USA', 'BMW 535i'], ['Buick', 'Century', 'Midsize', 14.2, 15.7, 17.3, 22.0, 31.0, 'Driver only', nan, '4', 2.2, 110.0, 5200.0, 2565.0, 'No', 16.4, 6.0, 189.0, 105.0, 69.0, 41.0, 28.0, 16.0, nan, 'USA', 'Buick Century'], ['Buick', 'LeSabre', 'Large', 19.9, 20.8, nan, 19.0, 28.0, 'Driver only', 'Front', '6', 3.8, 170.0, 4800.0, nan, 'No', nan, 6.0, 200.0, 111.0, 74.0, 42.0, 30.5, 17.0, 3470.0, 'USA', 'Buick LeSabre'], ['Buick', 'Roadmaster', 'Large', 22.6, 23.7, 24.9, 16.0, 25.0, 'Driver only', 'Rear', '6', 5.7, 180.0, 4000.0, 1320.0, 'No', 23.0, 6.0, 216.0, 116.0, 78.0, 45.0, 30.5, 21.0, 4105.0, 'USA', 'Buick Roadmaster'], ['Buick', 'Riviera', 'Midsize', 26.3, 26.3, 26.3, 19.0, 27.0, 'Driver only', 'Front', '6', 3.8, 170.0, 4800.0, 1690.0, 'No', 18.8, 5.0, 198.0, 108.0, nan, 41.0, 26.5, 14.0, 3495.0, 'USA', 'Buick Riviera'], ['Cadillac', 'DeVille', 'Large', 33.0, 34.7, 36.3, 16.0, 25.0, 'Driver only', 'Front', '8', 4.9, 200.0, 4100.0, nan, 'No', 18.0, 6.0, 206.0, 114.0, 73.0, 43.0, 35.0, 18.0, 3620.0, 'USA', 'Cadillac DeVille'], ['Cadillac', 'Seville', 'Midsize', 37.5, 40.1, 42.7, 16.0, 25.0, 'Driver & Passenger', 'Front', '8', 4.6, 295.0, 6000.0, 1985.0, 'No', 20.0, 5.0, 204.0, 111.0, 74.0, 44.0, 31.0, nan, 3935.0, 'USA', 'Cadillac Seville'], ['Chevrolet', 'Cavalier', 'Compact', 8.5, 13.4, 18.3, 25.0, 36.0, nan, nan, '4', 2.2, nan, 5200.0, 2380.0, 'Yes', 15.2, 5.0, 182.0, 101.0, 66.0, 38.0, 25.0, 13.0, 2490.0, 'USA', 'Chevrolet Cavalier'], ['Chevrolet', 'Corsica', 'Compact', 11.4, 11.4, 11.4, 25.0, 34.0, 'Driver only', 'Front', nan, 2.2, 110.0, 5200.0, 2665.0, 'Yes', 15.6, 5.0, 184.0, 103.0, 68.0, 39.0, 26.0, nan, 2785.0, 'USA', 'Chevrolet Corsica'], ['Chevrolet', 'Camaro', 'Sporty', 13.4, 15.1, 16.8, 19.0, 28.0, 'Driver & Passenger', 'Rear', nan, 3.4, 160.0, 4600.0, 1805.0, 'Yes', nan, 4.0, 193.0, 101.0, 74.0, 43.0, 25.0, 13.0, 3240.0, 'USA', 'Chevrolet Camaro'], ['Chevrolet', 'Lumina', 'Midsize', 13.4, 15.9, 18.4, nan, 29.0, nan, 'Front', '4', 2.2, nan, 5200.0, 2595.0, 'No', 16.5, 6.0, nan, 108.0, 71.0, nan, 28.5, 16.0, 3195.0, 'USA', 'Chevrolet Lumina'], ['Chevrolet', 'Lumina_APV', 'Van', 14.7, 16.3, 18.0, 18.0, 23.0, nan, 'Front', '6', 3.8, 170.0, 4800.0, 1690.0, 'No', 20.0, 7.0, 178.0, 110.0, 74.0, 44.0, 30.5, nan, 3715.0, 'USA', 'Chevrolet Lumina_APV'], ['Chevrolet', 'Astro', 'Van', 14.7, 16.6, 18.6, 15.0, 20.0, nan, '4WD', '6', 4.3, nan, 4000.0, 1790.0, 'No', 27.0, 8.0, 194.0, 111.0, 78.0, 42.0, 33.5, nan, 4025.0, 'USA', 'Chevrolet Astro'], ['Chevrolet', 'Caprice', 'Large', 18.0, 18.8, 19.6, 17.0, 26.0, 'Driver only', 'Rear', '8', 5.0, 170.0, 4200.0, 1350.0, 'No', 23.0, 6.0, 214.0, 116.0, 77.0, 42.0, 29.5, 20.0, 3910.0, 'USA', 'Chevrolet Caprice'], ['Chevrolet', 'Corvette', 'Sporty', 34.6, 38.0, 41.5, 17.0, 25.0, 'Driver only', 'Rear', '8', 5.7, 300.0, 5000.0, 1450.0, 'Yes', 20.0, 2.0, 179.0, 96.0, 74.0, 43.0, nan, nan, 3380.0, nan, 'Chevrolet Corvette'], [nan, 'Concorde', 'Large', 18.4, 18.4, 18.4, 20.0, 28.0, 'Driver & Passenger', 'Front', '6', 3.3, 153.0, 5300.0, 1990.0, 'No', 18.0, 6.0, 203.0, 113.0, 74.0, nan, 31.0, 15.0, 3515.0, 'USA', 'Chrylser Concorde'], ['Chrysler', 'LeBaron', 'Compact', 14.5, 15.8, 17.1, 23.0, 28.0, 'Driver & Passenger', 'Front', '4', 3.0, 141.0, 5000.0, 2090.0, 'No', 16.0, 6.0, 183.0, 104.0, 68.0, 41.0, 30.5, 14.0, 3085.0, 'USA', 'Chrysler LeBaron'], ['Chrysler', 'Imperial', 'Large', 29.5, 29.5, 29.5, 20.0, 26.0, 'Driver only', 'Front', '6', 3.3, 147.0, 4800.0, 1785.0, 'No', 16.0, 6.0, 203.0, 110.0, 69.0, 44.0, 36.0, 17.0, 3570.0, 'USA', 'Chrysler Imperial'], ['Dodge', 'Colt', 'Small', 7.9, 9.2, 10.6, 29.0, 33.0, nan, 'Front', '4', 1.5, 92.0, 6000.0, 3285.0, 'Yes', nan, 5.0, 174.0, 98.0, 66.0, 32.0, nan, 11.0, 2270.0, 'USA', 'Dodge Colt'], ['Dodge', 'Shadow', 'Small', 8.4, 11.3, 14.2, 23.0, 29.0, 'Driver only', 'Front', '4', 2.2, 93.0, 4800.0, nan, 'Yes', 14.0, 5.0, 172.0, 97.0, 67.0, 38.0, 26.5, nan, 2670.0, 'USA', 'Dodge Shadow'], ['Dodge', 'Spirit', 'Compact', 11.9, 13.3, 14.7, 22.0, 27.0, 'Driver only', 'Front', '4', 2.5, 100.0, 4800.0, 2535.0, 'Yes', nan, 6.0, 181.0, 104.0, 68.0, 39.0, 30.5, nan, 2970.0, 'USA', 'Dodge Spirit'], ['Dodge', 'Caravan', 'Van', nan, 19.0, 24.4, 17.0, 21.0, 'Driver only', '4WD', '6', 3.0, 142.0, 5000.0, 1970.0, 'No', 20.0, 7.0, 175.0, 112.0, 72.0, 42.0, 26.5, nan, 3705.0, 'USA', 'Dodge Caravan'], ['Dodge', 'Dynasty', 'Midsize', 14.8, 15.6, 16.4, 21.0, nan, 'Driver only', 'Front', nan, 2.5, 100.0, 4800.0, 2465.0, 'No', 16.0, 6.0, 192.0, 105.0, 69.0, 42.0, 30.5, 16.0, 3080.0, 'USA', 'Dodge Dynasty'], ['Dodge', 'Stealth', 'Sporty', 18.5, 25.8, 33.1, nan, 24.0, 'Driver only', '4WD', '6', 3.0, 300.0, 6000.0, 2120.0, 'Yes', 19.8, 4.0, 180.0, 97.0, nan, 40.0, 20.0, 11.0, 3805.0, 'USA', 'Dodge Stealth'], ['Eagle', 'Summit', 'Small', 7.9, 12.2, 16.5, 29.0, 33.0, nan, 'Front', '4', 1.5, 92.0, 6000.0, 2505.0, 'Yes', 13.2, 5.0, 174.0, 98.0, 66.0, 36.0, 26.5, 11.0, 2295.0, 'USA', 'Eagle Summit'], ['Eagle', 'Vision', 'Large', nan, 19.3, 21.2, 20.0, 28.0, 'Driver & Passenger', 'Front', '6', 3.5, nan, 5800.0, 1980.0, 'No', 18.0, 6.0, 202.0, 113.0, 74.0, 40.0, 30.0, 15.0, 3490.0, 'USA', 'Eagle Vision'], ['Ford', 'Festiva', 'Small', 6.9, 7.4, 7.9, 31.0, 33.0, nan, 'Front', '4', 1.3, 63.0, 5000.0, 3150.0, 'Yes', 10.0, 4.0, 141.0, 90.0, 63.0, 33.0, 26.0, 12.0, 1845.0, 'USA', 'Ford Festiva'], ['Ford', 'Escort', 'Small', 8.4, 10.1, 11.9, 23.0, 30.0, nan, 'Front', '4', 1.8, 127.0, 6500.0, 2410.0, nan, 13.2, 5.0, 171.0, 98.0, 67.0, 36.0, 28.0, 12.0, 2530.0, 'USA', 'Ford Escort'], ['Ford', 'Tempo', 'Compact', 10.4, 11.3, 12.2, 22.0, 27.0, nan, 'Front', '4', 2.3, 96.0, 4200.0, 2805.0, 'Yes', 15.9, 5.0, 177.0, 100.0, 68.0, nan, 27.5, 13.0, nan, 'USA', nan], ['Ford', 'Mustang', 'Sporty', 10.8, 15.9, 21.0, 22.0, 29.0, 'Driver only', 'Rear', '4', 2.3, 105.0, 4600.0, 2285.0, 'Yes', 15.4, 4.0, 180.0, 101.0, 68.0, 40.0, 24.0, 12.0, nan, 'USA', 'Ford Mustang'], ['Ford', 'Probe', 'Sporty', 12.8, 14.0, 15.2, nan, 30.0, 'Driver only', 'Front', '4', 2.0, 115.0, 5500.0, 2340.0, 'Yes', 15.5, 4.0, 179.0, 103.0, 70.0, 38.0, 23.0, 18.0, 2710.0, 'USA', 'Ford Probe'], ['Ford', 'Aerostar', 'Van', 14.5, 19.9, 25.3, 15.0, 20.0, 'Driver only', '4WD', '6', 3.0, 145.0, 4800.0, 2080.0, 'Yes', 21.0, 7.0, 176.0, 119.0, 72.0, 45.0, 30.0, nan, 3735.0, 'USA', 'Ford Aerostar'], ['Ford', 'Taurus', 'Midsize', 15.6, 20.2, 24.8, 21.0, 30.0, 'Driver only', 'Front', '6', 3.0, nan, 4800.0, 1885.0, 'No', nan, 5.0, 192.0, 106.0, 71.0, 40.0, 27.5, 18.0, 3325.0, 'USA', 'Ford Taurus'], ['Ford', 'Crown_Victoria', 'Large', 20.1, 20.9, 21.7, 18.0, 26.0, 'Driver only', 'Rear', '8', 4.6, 190.0, 4200.0, nan, 'No', 20.0, 6.0, 212.0, 114.0, 78.0, 43.0, 30.0, 21.0, 3950.0, 'USA', 'Ford Crown_Victoria'], ['Geo', 'Metro', 'Small', 6.7, 8.4, 10.0, 46.0, 50.0, nan, 'Front', '3', 1.0, 55.0, 5700.0, 3755.0, nan, 10.6, 4.0, 151.0, 93.0, 63.0, 34.0, 27.5, 10.0, 1695.0, 'non-USA', 'Geo Metro'], ['Geo', 'Storm', 'Sporty', 11.5, 12.5, 13.5, 30.0, 36.0, 'Driver only', 'Front', '4', 1.6, 90.0, 5400.0, 3250.0, 'Yes', 12.4, 4.0, 164.0, 97.0, nan, 37.0, 24.5, 11.0, 2475.0, 'non-USA', 'Geo Storm'], ['Honda', 'Prelude', 'Sporty', 17.0, 19.8, 22.7, 24.0, 31.0, 'Driver & Passenger', 'Front', '4', 2.3, 160.0, 5800.0, 2855.0, 'Yes', nan, 4.0, 175.0, 100.0, 70.0, 39.0, 23.5, 8.0, 2865.0, 'non-USA', 'Honda Prelude'], ['Honda', 'Civic', 'Small', 8.4, 12.1, 15.8, 42.0, 46.0, 'Driver only', 'Front', '4', 1.5, nan, 5900.0, 2650.0, 'Yes', 11.9, 4.0, 173.0, nan, 67.0, 36.0, 28.0, 12.0, nan, 'non-USA', 'Honda Civic'], ['Honda', 'Accord', 'Compact', 13.8, 17.5, 21.2, 24.0, 31.0, 'Driver & Passenger', 'Front', '4', 2.2, 140.0, 5600.0, nan, 'Yes', 17.0, 4.0, 185.0, 107.0, 67.0, 41.0, 28.0, 14.0, 3040.0, 'non-USA', 'Honda Accord'], ['Hyundai', 'Excel', 'Small', 6.8, 8.0, 9.2, 29.0, 33.0, nan, 'Front', '4', 1.5, 81.0, 5500.0, 2710.0, 'Yes', 11.9, 5.0, 168.0, 94.0, 63.0, 35.0, 26.0, 11.0, 2345.0, 'non-USA', 'Hyundai Excel'], ['Hyundai', 'Elantra', 'Small', 9.0, 10.0, 11.0, nan, 29.0, nan, 'Front', '4', 1.8, 124.0, 6000.0, 2745.0, 'Yes', 13.7, 5.0, 172.0, 98.0, 66.0, 36.0, 28.0, 12.0, 2620.0, 'non-USA', 'Hyundai Elantra'], ['Hyundai', 'Scoupe', nan, 9.1, 10.0, 11.0, 26.0, 34.0, nan, 'Front', '4', 1.5, 92.0, 5550.0, 2540.0, 'Yes', 11.9, 4.0, 166.0, 94.0, 64.0, 34.0, 23.5, 9.0, 2285.0, 'non-USA', nan], ['Hyundai', 'Sonata', 'Midsize', 12.4, 13.9, 15.3, 20.0, 27.0, nan, 'Front', '4', 2.0, 128.0, 6000.0, 2335.0, 'Yes', 17.2, 5.0, 184.0, 104.0, 69.0, 41.0, 31.0, nan, 2885.0, nan, 'Hyundai Sonata'], ['Infiniti', 'Q45', 'Midsize', 45.4, 47.9, nan, 17.0, 22.0, nan, 'Rear', '8', 4.5, 278.0, 6000.0, 1955.0, 'No', 22.5, 5.0, 200.0, 113.0, 72.0, 42.0, 29.0, 15.0, 4000.0, 'non-USA', 'Infiniti Q45'], ['Lexus', 'ES300', 'Midsize', 27.5, 28.0, 28.4, 18.0, 24.0, 'Driver only', 'Front', '6', 3.0, 185.0, nan, 2325.0, 'Yes', 18.5, 5.0, 188.0, 103.0, 70.0, 40.0, 27.5, 14.0, 3510.0, 'non-USA', 'Lexus ES300'], [nan, 'SC300', 'Midsize', 34.7, 35.2, 35.6, 18.0, 23.0, 'Driver & Passenger', 'Rear', '6', 3.0, 225.0, 6000.0, 2510.0, 'Yes', nan, 4.0, 191.0, 106.0, 71.0, 39.0, 25.0, 9.0, 3515.0, 'non-USA', 'Lexus SC300'], ['Lincoln', 'Continental', 'Midsize', 33.3, 34.3, 35.3, 17.0, 26.0, 'Driver & Passenger', nan, '6', 3.8, 160.0, 4400.0, 1835.0, 'No', 18.4, 6.0, 205.0, 109.0, 73.0, 42.0, 30.0, 19.0, 3695.0, 'USA', 'Lincoln Continental'], ['Lincoln', 'Town_Car', 'Large', 34.4, 36.1, 37.8, 18.0, 26.0, 'Driver & Passenger', 'Rear', '8', 4.6, 210.0, 4600.0, 1840.0, 'No', 20.0, nan, 219.0, 117.0, 77.0, 45.0, 31.5, 22.0, 4055.0, 'USA', 'Lincoln Town_Car'], ['Mazda', '323', 'Small', 7.4, 8.3, 9.1, 29.0, 37.0, nan, 'Front', '4', 1.6, 82.0, 5000.0, 2370.0, 'Yes', 13.2, 4.0, 164.0, 97.0, 66.0, 34.0, 27.0, 16.0, 2325.0, 'non-USA', 'Mazda 323'], ['Mazda', 'Protege', 'Small', 10.9, 11.6, 12.3, 28.0, 36.0, nan, 'Front', '4', 1.8, 103.0, 5500.0, 2220.0, 'Yes', 14.5, 5.0, 172.0, 98.0, 66.0, 36.0, 26.5, 13.0, 2440.0, 'non-USA', 'Mazda Protege'], ['Mazda', '626', 'Compact', 14.3, 16.5, 18.7, 26.0, 34.0, 'Driver only', 'Front', '4', 2.5, 164.0, 5600.0, 2505.0, 'Yes', 15.5, 5.0, 184.0, 103.0, 69.0, 40.0, 29.5, 14.0, 2970.0, 'non-USA', 'Mazda 626'], ['Mazda', 'MPV', 'Van', 16.6, 19.1, 21.7, 18.0, 24.0, nan, '4WD', '6', 3.0, 155.0, 5000.0, 2240.0, 'No', 19.6, 7.0, 190.0, 110.0, 72.0, 39.0, 27.5, nan, 3735.0, 'non-USA', 'Mazda MPV'], ['Mazda', 'RX-7', 'Sporty', 32.5, 32.5, 32.5, 17.0, 25.0, 'Driver only', nan, 'rotary', 1.3, 255.0, 6500.0, 2325.0, 'Yes', 20.0, 2.0, 169.0, 96.0, 69.0, nan, nan, nan, nan, 'non-USA', 'Mazda RX-7'], ['Mercedes-Benz', '190E', 'Compact', 29.0, 31.9, 34.9, nan, 29.0, 'Driver only', 'Rear', '4', 2.3, 130.0, 5100.0, 2425.0, 'Yes', 14.5, 5.0, 175.0, 105.0, 67.0, 34.0, 26.0, 12.0, 2920.0, nan, 'Mercedes-Benz 190E'], ['Mercedes-Benz', '300E', 'Midsize', 43.8, 61.9, 80.0, 19.0, 25.0, 'Driver & Passenger', 'Rear', '6', 3.2, 217.0, 5500.0, 2220.0, 'No', 18.5, 5.0, nan, 110.0, 69.0, 37.0, nan, 15.0, 3525.0, 'non-USA', 'Mercedes-Benz 300E'], ['Mercury', nan, 'Sporty', 13.3, 14.1, 15.0, 23.0, 26.0, 'Driver only', 'Front', '4', 1.6, 100.0, 5750.0, 2475.0, 'Yes', 11.1, 4.0, 166.0, 95.0, 65.0, 36.0, 19.0, 6.0, 2450.0, 'USA', 'Mercury Capri'], ['Mercury', 'Cougar', 'Midsize', 14.9, 14.9, 14.9, 19.0, 26.0, nan, 'Rear', '6', 3.8, 140.0, 3800.0, 1730.0, 'No', 18.0, 5.0, 199.0, 113.0, 73.0, 38.0, 28.0, 15.0, 3610.0, 'USA', 'Mercury Cougar'], ['Mitsubishi', 'Mirage', 'Small', 7.7, 10.3, 12.9, 29.0, nan, nan, 'Front', '4', 1.5, 92.0, 6000.0, 2505.0, 'Yes', 13.2, 5.0, 172.0, 98.0, 67.0, 36.0, 26.0, 11.0, 2295.0, 'non-USA', 'Mitsubishi Mirage'], ['Mitsubishi', 'Diamante', 'Midsize', 22.4, 26.1, nan, 18.0, 24.0, 'Driver only', 'Front', '6', 3.0, 202.0, 6000.0, 2210.0, 'No', 19.0, 5.0, 190.0, 107.0, 70.0, 43.0, 27.5, 14.0, 3730.0, 'non-USA', 'Mitsubishi Diamante'], ['Nissan', 'Sentra', 'Small', 8.7, 11.8, 14.9, 29.0, 33.0, 'Driver only', 'Front', nan, 1.6, 110.0, 6000.0, 2435.0, 'Yes', 13.2, 5.0, 170.0, 96.0, 66.0, 33.0, 26.0, nan, nan, 'non-USA', 'Nissan Sentra'], ['Nissan', 'Altima', 'Compact', 13.0, 15.7, 18.3, 24.0, 30.0, 'Driver only', 'Front', '4', 2.4, 150.0, 5600.0, 2130.0, 'Yes', 15.9, 5.0, 181.0, 103.0, 67.0, 40.0, 28.5, 14.0, 3050.0, 'non-USA', 'Nissan Altima'], ['Nissan', 'Quest', 'Van', 16.7, 19.1, 21.5, 17.0, 23.0, nan, 'Front', '6', 3.0, nan, 4800.0, 2065.0, 'No', 20.0, 7.0, 190.0, 112.0, 74.0, 41.0, 27.0, nan, 4100.0, 'non-USA', 'Nissan Quest'], ['Nissan', 'Maxima', 'Midsize', 21.0, 21.5, 22.0, 21.0, 26.0, 'Driver only', 'Front', '6', 3.0, 160.0, 5200.0, 2045.0, nan, 18.5, 5.0, 188.0, 104.0, 69.0, 41.0, 28.5, 14.0, 3200.0, 'non-USA', 'Nissan Maxima'], ['Oldsmobile', 'Achieva', 'Compact', 13.0, 13.5, 14.0, 24.0, 31.0, nan, 'Front', '4', 2.3, 155.0, 6000.0, 2380.0, 'No', 15.2, 5.0, 188.0, 103.0, 67.0, 39.0, 28.0, 14.0, 2910.0, 'USA', 'Oldsmobile Achieva'], ['Oldsmobile', 'Cutlass_Ciera', 'Midsize', 14.2, 16.3, 18.4, 23.0, 31.0, 'Driver only', 'Front', '4', 2.2, 110.0, 5200.0, 2565.0, 'No', nan, 5.0, 190.0, 105.0, 70.0, 42.0, 28.0, 16.0, 2890.0, 'USA', 'Oldsmobile Cutlass_Ciera'], ['Oldsmobile', 'Silhouette', 'Van', 19.5, 19.5, 19.5, 18.0, 23.0, nan, 'Front', '6', 3.8, 170.0, 4800.0, 1690.0, 'No', 20.0, 7.0, nan, 110.0, 74.0, 44.0, 30.5, nan, 3715.0, 'USA', 'Oldsmobile Silhouette'], ['Oldsmobile', 'Eighty-Eight', 'Large', 19.5, 20.7, 21.9, nan, 28.0, 'Driver only', 'Front', '6', 3.8, 170.0, 4800.0, 1570.0, 'No', 18.0, 6.0, 201.0, 111.0, 74.0, 42.0, 31.5, 17.0, 3470.0, 'USA', 'Oldsmobile Eighty-Eight'], ['Plymouth', 'Laser', 'Sporty', 11.4, 14.4, 17.4, nan, 30.0, nan, '4WD', '4', 1.8, 92.0, 5000.0, 2360.0, 'Yes', 15.9, 4.0, 173.0, 97.0, 67.0, 39.0, 24.5, 8.0, 2640.0, nan, 'Plymouth Laser'], ['Pontiac', 'LeMans', 'Small', nan, 9.0, 9.9, 31.0, 41.0, nan, 'Front', '4', 1.6, 74.0, 5600.0, 3130.0, 'Yes', 13.2, 4.0, 177.0, 99.0, 66.0, 35.0, 25.5, 17.0, 2350.0, 'USA', 'Pontiac LeMans'], ['Pontiac', 'Sunbird', 'Compact', 9.4, 11.1, 12.8, nan, 31.0, nan, nan, '4', 2.0, 110.0, 5200.0, 2665.0, 'Yes', 15.2, 5.0, 181.0, 101.0, 66.0, 39.0, 25.0, 13.0, nan, 'USA', nan], ['Pontiac', 'Firebird', nan, 14.0, 17.7, 21.4, 19.0, 28.0, 'Driver & Passenger', 'Rear', '6', nan, 160.0, 4600.0, 1805.0, 'Yes', 15.5, 4.0, 196.0, 101.0, 75.0, 43.0, 25.0, 13.0, 3240.0, 'USA', 'Pontiac Firebird'], ['Pontiac', 'Grand_Prix', 'Midsize', 15.4, 18.5, 21.6, 19.0, 27.0, nan, 'Front', '6', 3.4, 200.0, 5000.0, 1890.0, 'Yes', 16.5, 5.0, 195.0, 108.0, 72.0, 41.0, 28.5, 16.0, 3450.0, 'USA', 'Pontiac Grand_Prix'], ['Pontiac', 'Bonneville', 'Large', 19.4, 24.4, 29.4, 19.0, 28.0, 'Driver & Passenger', 'Front', '6', 3.8, 170.0, 4800.0, 1565.0, 'No', 18.0, 6.0, 177.0, 111.0, 74.0, 43.0, 30.5, 18.0, 3495.0, 'USA', 'Pontiac Bonneville'], ['Saab', '900', 'Compact', 20.3, 28.7, 37.1, 20.0, 26.0, nan, 'Front', '4', 2.1, 140.0, 6000.0, 2910.0, 'Yes', 18.0, 5.0, nan, 99.0, 67.0, 37.0, 26.5, 14.0, 2775.0, 'non-USA', 'Saab 900'], ['Saturn', 'SL', 'Small', 9.2, nan, 12.9, nan, 38.0, 'Driver only', 'Front', '4', 1.9, 85.0, 5000.0, 2145.0, 'Yes', 12.8, 5.0, 176.0, 102.0, 68.0, 40.0, 26.5, nan, 2495.0, 'USA', 'Saturn SL'], ['Subaru', 'Justy', 'Small', 7.3, 8.4, 9.5, 33.0, 37.0, nan, '4WD', '3', 1.2, 73.0, 5600.0, 2875.0, 'Yes', 9.2, 4.0, 146.0, 90.0, 60.0, 32.0, 23.5, 10.0, 2045.0, 'non-USA', 'Subaru Justy'], ['Subaru', 'Loyale', 'Small', 10.5, 10.9, 11.3, 25.0, 30.0, nan, '4WD', '4', 1.8, 90.0, 5200.0, 3375.0, 'Yes', 15.9, 5.0, 175.0, 97.0, 65.0, 35.0, 27.5, 15.0, 2490.0, 'non-USA', 'Subaru Loyale'], ['Subaru', 'Legacy', 'Compact', 16.3, 19.5, 22.7, 23.0, 30.0, 'Driver only', '4WD', '4', 2.2, 130.0, nan, 2330.0, 'Yes', 15.9, 5.0, 179.0, 102.0, 67.0, 37.0, 27.0, 14.0, 3085.0, 'non-USA', 'Subaru Legacy'], ['Suzuki', 'Swift', nan, 7.3, 8.6, nan, 39.0, 43.0, nan, 'Front', '3', 1.3, 70.0, 6000.0, 3360.0, 'Yes', 10.6, 4.0, 161.0, 93.0, nan, 34.0, 27.5, 10.0, 1965.0, 'non-USA', 'Suzuki Swift'], ['Toyota', 'Tercel', 'Small', nan, 9.8, 11.8, 32.0, 37.0, 'Driver only', 'Front', '4', 1.5, 82.0, 5200.0, 3505.0, 'Yes', 11.9, nan, 162.0, 94.0, nan, 36.0, 24.0, 11.0, 2055.0, 'non-USA', 'Toyota Tercel'], ['Toyota', 'Celica', 'Sporty', 14.2, 18.4, 22.6, 25.0, 32.0, nan, 'Front', '4', 2.2, 135.0, nan, 2405.0, 'Yes', 15.9, 4.0, 174.0, 99.0, 69.0, nan, 23.0, 13.0, 2950.0, 'non-USA', 'Toyota Celica'], ['Toyota', 'Camry', 'Midsize', 15.2, nan, 21.2, 22.0, 29.0, 'Driver only', nan, '4', 2.2, 130.0, 5400.0, 2340.0, nan, 18.5, 5.0, 188.0, 103.0, 70.0, 38.0, 28.5, 15.0, 3030.0, 'non-USA', 'Toyota Camry'], ['Toyota', 'Previa', 'Van', nan, 22.7, 26.6, 18.0, 22.0, 'Driver only', '4WD', '4', 2.4, 138.0, 5000.0, 2515.0, 'Yes', 19.8, 7.0, 187.0, 113.0, 71.0, 41.0, 35.0, nan, 3785.0, 'non-USA', 'Toyota Previa'], ['Volkswagen', 'Fox', 'Small', 8.7, 9.1, 9.5, 25.0, 33.0, nan, 'Front', '4', 1.8, 81.0, 5500.0, 2550.0, 'Yes', 12.4, 4.0, 163.0, 93.0, 63.0, 34.0, 26.0, 10.0, 2240.0, 'non-USA', 'Volkswagen Fox'], ['Volkswagen', 'Eurovan', 'Van', 16.6, 19.7, 22.7, 17.0, 21.0, nan, 'Front', '5', 2.5, 109.0, 4500.0, 2915.0, 'Yes', 21.1, 7.0, 187.0, 115.0, 72.0, 38.0, 34.0, nan, 3960.0, nan, 'Volkswagen Eurovan'], ['Volkswagen', 'Passat', 'Compact', 17.6, 20.0, 22.4, 21.0, 30.0, nan, 'Front', '4', 2.0, 134.0, 5800.0, 2685.0, 'Yes', 18.5, 5.0, 180.0, 103.0, 67.0, 35.0, 31.5, 14.0, 2985.0, 'non-USA', 'Volkswagen Passat'], ['Volkswagen', 'Corrado', 'Sporty', 22.9, 23.3, 23.7, 18.0, 25.0, nan, 'Front', '6', 2.8, 178.0, 5800.0, 2385.0, 'Yes', 18.5, 4.0, 159.0, 97.0, 66.0, 36.0, 26.0, 15.0, 2810.0, 'non-USA', 'Volkswagen Corrado'], ['Volvo', '240', 'Compact', 21.8, 22.7, 23.5, 21.0, 28.0, 'Driver only', 'Rear', nan, 2.3, 114.0, 5400.0, 2215.0, 'Yes', 15.8, 5.0, 190.0, 104.0, 67.0, 37.0, 29.5, 14.0, 2985.0, 'non-USA', 'Volvo 240'], [nan, '850', 'Midsize', 24.8, 26.7, 28.5, 20.0, 28.0, 'Driver & Passenger', 'Front', '5', 2.4, 168.0, 6200.0, nan, 'Yes', 19.3, 5.0, 184.0, 105.0, 69.0, 38.0, 30.0, 15.0, 3245.0, 'non-USA', 'Volvo 850']]\n"
     ]
    }
   ],
   "source": [
    "df = pd.read_csv('https://raw.githubusercontent.com/selva86/datasets/master/Cars93_miss.csv')\n",
    "\n",
    "num_rows, num_columns = df.shape\n",
    "data_types = df.dtypes\n",
    "summary_stats = df.describe()\n",
    "\n",
    "numpy_array = df.to_numpy()\n",
    "list_data = df.values.tolist()\n",
    "\n",
    "print(f'Количество строк: {num_rows}')\n",
    "print(f'Количество столбцов: {num_columns}')\n",
    "print('\\nТипы данных каждого столбца:')\n",
    "print(data_types)\n",
    "print('\\nСуммарная статистика каждого столбца:')\n",
    "print(summary_stats)\n",
    "print('\\nЭквивалент DataFrame в виде numpy-массива:')\n",
    "print(numpy_array)\n",
    "print('\\nЭквивалент DataFrame в виде списка:')\n",
    "print(list_data)"
   ]
  },
  {
   "cell_type": "markdown",
   "metadata": {},
   "source": [
    "## Упражнение № 37\n",
    "\n",
    "Извлеките номер строки и столбца конкретной ячейки по заданному критерию.\n",
    "\n",
    "Пример входных данных:\n",
    "\n",
    "```python\n",
    "df = pd.read_csv('https://raw.githubusercontent.com/selva86/datasets/master/Cars93_miss.csv')\n",
    "```\n",
    "\n",
    "*Какой производитель, модель и тип имеет наибольшую цену в `Price`? Каков номер строки и столбца ячейки с наибольшим значением `Price`?*\n"
   ]
  },
  {
   "cell_type": "code",
   "execution_count": null,
   "metadata": {},
   "outputs": [
    {
     "name": "stdout",
     "output_type": "stream",
     "text": [
      "Производитель: Mercedes-Benz\n",
      "Модель: 300E\n",
      "Тип: Midsize\n",
      "Цена: 61.9\n",
      "Номер строки: 58\n",
      "Номер столбца: 4\n",
      "---\n"
     ]
    }
   ],
   "source": [
    "df = pd.read_csv('https://raw.githubusercontent.com/selva86/datasets/master/Cars93_miss.csv')\n",
    "\n",
    "max_price = df['Price'].max()\n",
    "max_price_rows = df[df['Price'] == max_price]\n",
    "row_numbers = max_price_rows.index.tolist()\n",
    "column_number = df.columns.get_loc('Price')\n",
    "\n",
    "for row_number in row_numbers: # а вдруг их несколько\n",
    "    manufacturer = df.at[row_number, 'Manufacturer']\n",
    "    model = df.at[row_number, 'Model']\n",
    "    car_type = df.at[row_number, 'Type']\n",
    "    print(f'Производитель: {manufacturer}')\n",
    "    print(f'Модель: {model}')\n",
    "    print(f'Тип: {car_type}')\n",
    "    print(f'Цена: {max_price}')\n",
    "    print(f'Номер строки: {row_number}')\n",
    "    print(f'Номер столбца: {column_number}')\n",
    "    print('---')"
   ]
  },
  {
   "cell_type": "markdown",
   "metadata": {},
   "source": [
    "## Упражнение № 38\n",
    "\n",
    "Переименуйте в `df` столбец `Type` в `CarType` и замените `.` в именах столбцов на `_`.\n",
    "\n",
    "Пример входных данных:\n",
    "\n",
    "```python\n",
    "df = pd.read_csv('https://raw.githubusercontent.com/selva86/datasets/master/Cars93_miss.csv')\n",
    "print(df.columns)\n",
    "#> Index(['Manufacturer', 'Model', 'Type', 'Min.Price', 'Price', 'Max.Price',\n",
    "#>        'MPG.city', 'MPG.highway', 'AirBags', 'DriveTrain', 'Cylinders',\n",
    "#>        'EngineSize', 'Horsepower', 'RPM', 'Rev.per.mile', 'Man.trans.avail',\n",
    "#>        'Fuel.tank.capacity', 'Passengers', 'Length', 'Wheelbase', 'Width',\n",
    "#>        'Turn.circle', 'Rear.seat.room', 'Luggage.room', 'Weight', 'Origin',\n",
    "#>        'Make'],\n",
    "#>       dtype='object')\n",
    "```\n",
    "\n",
    "Пример выходных данных:\n",
    "\n",
    "```python\n",
    "print(df.columns)\n",
    "#> Index(['Manufacturer', 'Model', 'CarType', 'Min_Price', 'Price', 'Max_Price',\n",
    "#>        'MPG_city', 'MPG_highway', 'AirBags', 'DriveTrain', 'Cylinders',\n",
    "#>        'EngineSize', 'Horsepower', 'RPM', 'Rev_per_mile', 'Man_trans_avail',\n",
    "#>        'Fuel_tank_capacity', 'Passengers', 'Length', 'Wheelbase', 'Width',\n",
    "#>        'Turn_circle', 'Rear_seat_room', 'Luggage_room', 'Weight', 'Origin',\n",
    "#>        'Make'],\n",
    "#>       dtype='object')\n",
    "```"
   ]
  },
  {
   "cell_type": "code",
   "execution_count": null,
   "metadata": {},
   "outputs": [
    {
     "name": "stdout",
     "output_type": "stream",
     "text": [
      "Index(['Manufacturer', 'Model', 'Type', 'Min.Price', 'Price', 'Max.Price',\n",
      "       'MPG.city', 'MPG.highway', 'AirBags', 'DriveTrain', 'Cylinders',\n",
      "       'EngineSize', 'Horsepower', 'RPM', 'Rev.per.mile', 'Man.trans.avail',\n",
      "       'Fuel.tank.capacity', 'Passengers', 'Length', 'Wheelbase', 'Width',\n",
      "       'Turn.circle', 'Rear.seat.room', 'Luggage.room', 'Weight', 'Origin',\n",
      "       'Make'],\n",
      "      dtype='object')\n",
      "Index(['Manufacturer', 'Model', 'CarType', 'Min_Price', 'Price', 'Max_Price',\n",
      "       'MPG_city', 'MPG_highway', 'AirBags', 'DriveTrain', 'Cylinders',\n",
      "       'EngineSize', 'Horsepower', 'RPM', 'Rev_per_mile', 'Man_trans_avail',\n",
      "       'Fuel_tank_capacity', 'Passengers', 'Length', 'Wheelbase', 'Width',\n",
      "       'Turn_circle', 'Rear_seat_room', 'Luggage_room', 'Weight', 'Origin',\n",
      "       'Make'],\n",
      "      dtype='object')\n"
     ]
    }
   ],
   "source": [
    "df = pd.read_csv('https://raw.githubusercontent.com/selva86/datasets/master/Cars93_miss.csv')\n",
    "print(df.columns)\n",
    "\n",
    "df.rename(columns={'Type': 'CarType'}, inplace=True)\n",
    "df.columns = df.columns.str.replace('.', '_')\n",
    "print(df.columns)"
   ]
  },
  {
   "cell_type": "markdown",
   "metadata": {},
   "source": [
    "## Упражнение № 39\n",
    "\n",
    "Проверьте, нет ли в `df` отсутствующих значений.\n",
    "\n",
    "Пример входных данных:\n",
    "\n",
    "```python\n",
    "df = pd.read_csv('https://raw.githubusercontent.com/selva86/datasets/master/Cars93_miss.csv')\n",
    "```"
   ]
  },
  {
   "cell_type": "code",
   "execution_count": null,
   "metadata": {},
   "outputs": [
    {
     "name": "stdout",
     "output_type": "stream",
     "text": [
      "Есть пропуски\n"
     ]
    }
   ],
   "source": [
    "\n",
    "import io\n",
    "import requests\n",
    "\n",
    "data = requests.get('https://raw.githubusercontent.com/selva86/datasets/master/Cars93_miss.csv').text\n",
    "data = data.replace(',\"None\",', ',\"No_AirBags\",') # Чертовы подушки -- если там none -- это не пустота, а отсутствие подушек, пустота -- NA.\n",
    "df = pd.read_csv(io.StringIO(data))\n",
    "\n",
    "print('Есть пропуски' if df.isnull().values.any() else 'Нет пропусков')"
   ]
  },
  {
   "cell_type": "markdown",
   "metadata": {},
   "source": [
    "## Упражнение № 40\n",
    "\n",
    "Подсчитайте количество пропущенных значений в каждом столбце `df`. Какой столбец имеет наибольшее число пропущенных значений?\n",
    "\n",
    "Пример входных данных:\n",
    "\n",
    "```python\n",
    "df = pd.read_csv('https://raw.githubusercontent.com/selva86/datasets/master/Cars93_miss.csv')\n",
    "```"
   ]
  },
  {
   "cell_type": "code",
   "execution_count": null,
   "metadata": {},
   "outputs": [
    {
     "name": "stdout",
     "output_type": "stream",
     "text": [
      "Количество пропущенных значений в каждом столбце:\n",
      "Manufacturer           4\n",
      "Model                  1\n",
      "Type                   3\n",
      "Min.Price              7\n",
      "Price                  2\n",
      "Max.Price              5\n",
      "MPG.city               9\n",
      "MPG.highway            2\n",
      "AirBags                6\n",
      "DriveTrain             7\n",
      "Cylinders              5\n",
      "EngineSize             2\n",
      "Horsepower             7\n",
      "RPM                    3\n",
      "Rev.per.mile           6\n",
      "Man.trans.avail        5\n",
      "Fuel.tank.capacity     8\n",
      "Passengers             2\n",
      "Length                 4\n",
      "Wheelbase              1\n",
      "Width                  6\n",
      "Turn.circle            5\n",
      "Rear.seat.room         4\n",
      "Luggage.room          19\n",
      "Weight                 7\n",
      "Origin                 5\n",
      "Make                   3\n",
      "dtype: int64\n",
      "\n",
      "Столб(ы) с наибольшим числом пропущенных значений:\n",
      "['Luggage.room']\n"
     ]
    }
   ],
   "source": [
    "import io\n",
    "import requests\n",
    "\n",
    "data = requests.get('https://raw.githubusercontent.com/selva86/datasets/master/Cars93_miss.csv').text\n",
    "data = data.replace(',\"None\",', ',\"No_AirBags\",') \n",
    "df = pd.read_csv(io.StringIO(data))\n",
    "\n",
    "missing_values = df.isnull().sum()\n",
    "max_missing_values = missing_values.max()\n",
    "columns_with_max_missing = missing_values[missing_values == max_missing_values].index.tolist()\n",
    "print(\"Количество пропущенных значений в каждом столбце:\")\n",
    "print(missing_values)\n",
    "print(\"\\nСтолб(ы) с наибольшим числом пропущенных значений:\")\n",
    "print(columns_with_max_missing)"
   ]
  },
  {
   "cell_type": "markdown",
   "metadata": {},
   "source": [
    "## Упражнение № 41\n",
    "\n",
    "Замените отсутствующие значения в столбцах `Min.Price` и `Max.Price` на соответствующие им средние значения.\n",
    "\n",
    "Пример входных данных:\n",
    "\n",
    "```python\n",
    "df = pd.read_csv('https://raw.githubusercontent.com/selva86/datasets/master/Cars93_miss.csv')\n",
    "```"
   ]
  },
  {
   "cell_type": "code",
   "execution_count": null,
   "metadata": {},
   "outputs": [
    {
     "name": "stdout",
     "output_type": "stream",
     "text": [
      "    Min.Price  Max.Price\n",
      "0   12.900000  18.800000\n",
      "1   29.200000  38.700000\n",
      "2   25.900000  32.300000\n",
      "3   17.118605  44.600000\n",
      "4   17.118605  21.459091\n",
      "..        ...        ...\n",
      "88  16.600000  22.700000\n",
      "89  17.600000  22.400000\n",
      "90  22.900000  23.700000\n",
      "91  21.800000  23.500000\n",
      "92  24.800000  28.500000\n",
      "\n",
      "[93 rows x 2 columns]\n"
     ]
    }
   ],
   "source": [
    "df = pd.read_csv('https://raw.githubusercontent.com/selva86/datasets/master/Cars93_miss.csv')\n",
    "\n",
    "avg_min_price = df['Min.Price'].mean()\n",
    "avg_max_price = df['Max.Price'].mean()\n",
    "df.fillna({'Min.Price' : avg_min_price}, inplace=True)\n",
    "df.fillna({'Max.Price' : avg_max_price}, inplace=True)\n",
    "print(df[['Min.Price', 'Max.Price']])"
   ]
  },
  {
   "cell_type": "markdown",
   "metadata": {},
   "source": [
    "## Упражнение № 42\n",
    "\n",
    "В `df` с помощью метода `apply` замените недостающие значения в `Min.Price` на среднее значение столбца, а в `Max.Price` — на медиану столбца.\n",
    "\n",
    "Пример входных данных:\n",
    "\n",
    "```python\n",
    "df = pd.read_csv('https://raw.githubusercontent.com/selva86/datasets/master/Cars93_miss.csv')\n",
    "```\n",
    "\n",
    "[Подсказка на StackOverflow](https://stackoverflow.com/questions/32437435/passing-additional-arguments-to-python-pandas-dataframe-apply)\n"
   ]
  },
  {
   "cell_type": "code",
   "execution_count": null,
   "metadata": {},
   "outputs": [
    {
     "name": "stdout",
     "output_type": "stream",
     "text": [
      "    Min.Price  Max.Price\n",
      "0   12.900000      18.80\n",
      "1   29.200000      38.70\n",
      "2   25.900000      32.30\n",
      "3   17.118605      44.60\n",
      "4   17.118605      19.15\n",
      "..        ...        ...\n",
      "88  16.600000      22.70\n",
      "89  17.600000      22.40\n",
      "90  22.900000      23.70\n",
      "91  21.800000      23.50\n",
      "92  24.800000      28.50\n",
      "\n",
      "[93 rows x 2 columns]\n"
     ]
    }
   ],
   "source": [
    "df = pd.read_csv('https://raw.githubusercontent.com/selva86/datasets/master/Cars93_miss.csv')\n",
    "\n",
    "def fill_missing_values(column):\n",
    "    if column.name == 'Min.Price':\n",
    "        return column.fillna(column.mean())\n",
    "    elif column.name == 'Max.Price':\n",
    "        return column.fillna(column.median())\n",
    "    return column\n",
    "\n",
    "df[['Min.Price', 'Max.Price']] = df[['Min.Price', 'Max.Price']].apply(fill_missing_values)\n",
    "\n",
    "print(df[['Min.Price', 'Max.Price']])"
   ]
  },
  {
   "cell_type": "markdown",
   "metadata": {},
   "source": [
    "## Упражнение № 43\n",
    "\n",
    "Получите первый столбец (`a`) в `df` в виде датафрейма (а не в виде ряда).\n",
    "\n",
    "Пример входных данных:\n",
    "\n",
    "```python\n",
    "df = pd.DataFrame(np.arange(20).reshape(-1, 5), columns=list('abcde'))\n",
    "```"
   ]
  },
  {
   "cell_type": "code",
   "execution_count": null,
   "metadata": {},
   "outputs": [
    {
     "name": "stdout",
     "output_type": "stream",
     "text": [
      "    a\n",
      "0   0\n",
      "1   5\n",
      "2  10\n",
      "3  15\n"
     ]
    }
   ],
   "source": [
    "df = pd.DataFrame(np.arange(20).reshape(-1, 5), columns=list('abcde'))\n",
    "\n",
    "print(df[['a']]) # или так print(pd.DataFrame(df['a']))"
   ]
  },
  {
   "cell_type": "markdown",
   "metadata": {},
   "source": [
    "## Упражнение № 44\n",
    "\n",
    "1. В `df` поменяйте местами столбцы `'a'` и `'c'`.\n",
    "2. Создайте обобщенную функцию для обмена данными между двумя столбцами без фиксированного задания имен столбцов.\n",
    "3. Отсортируйте столбцы в обратном алфавитном порядке, т.е. от столбца `'e'` до столбца `'a'`.\n",
    "\n",
    "Пример входных данных:\n",
    "\n",
    "```python\n",
    "df = pd.DataFrame(np.arange(20).reshape(-1, 5), columns=list('abcde'))\n",
    "```"
   ]
  },
  {
   "cell_type": "code",
   "execution_count": null,
   "metadata": {},
   "outputs": [
    {
     "name": "stdout",
     "output_type": "stream",
     "text": [
      "После замены столбцов 'a' и 'c':\n",
      "    c   b   a   d   e\n",
      "0   2   1   0   3   4\n",
      "1   7   6   5   8   9\n",
      "2  12  11  10  13  14\n",
      "3  17  16  15  18  19\n",
      "\n",
      "После сортировки столбцов в обратном алфавитном порядке:\n",
      "    e   d   c   b   a\n",
      "0   4   3   2   1   0\n",
      "1   9   8   7   6   5\n",
      "2  14  13  12  11  10\n",
      "3  19  18  17  16  15\n"
     ]
    }
   ],
   "source": [
    "df = pd.DataFrame(np.arange(20).reshape(-1, 5), columns=list('abcde'))\n",
    "\n",
    "def swap_columns(dataframe, col1, col2):\n",
    "    col1_data=dataframe[col1]\n",
    "    col2_data=dataframe[col2]\n",
    "    dataframe[col1]=col2_data\n",
    "    dataframe[col2]=col1_data\n",
    "    dataframe = dataframe.rename(columns={col1:col2, col2:col1})\n",
    "    return dataframe\n",
    "\n",
    "print(\"После замены столбцов 'a' и 'c':\")\n",
    "df = swap_columns(df, 'a', 'c')\n",
    "print(df)\n",
    "\n",
    "df = df[sorted(df.columns, reverse=True)]\n",
    "print(\"\\nПосле сортировки столбцов в обратном алфавитном порядке:\")\n",
    "print(df)"
   ]
  },
  {
   "cell_type": "markdown",
   "metadata": {},
   "source": [
    "## Упражнение № 45\n",
    "\n",
    "Измените настройки отображения `pandas` при выводе на печать датафрейма `df`, чтобы он показывал максимум 10 строк и 10 столбцов.\n",
    "\n",
    "Пример входных данных:\n",
    "\n",
    "```python\n",
    "df = pd.read_csv('https://raw.githubusercontent.com/selva86/datasets/master/Cars93_miss.csv')\n",
    "```"
   ]
  },
  {
   "cell_type": "code",
   "execution_count": null,
   "metadata": {},
   "outputs": [
    {
     "name": "stdout",
     "output_type": "stream",
     "text": [
      "   Manufacturer    Model     Type  Min.Price  Price  ...  Rear.seat.room  \\\n",
      "0         Acura  Integra    Small       12.9   15.9  ...            26.5   \n",
      "1           NaN   Legend  Midsize       29.2   33.9  ...            30.0   \n",
      "2          Audi       90  Compact       25.9   29.1  ...            28.0   \n",
      "3          Audi      100  Midsize        NaN   37.7  ...            31.0   \n",
      "4           BMW     535i  Midsize        NaN   30.0  ...            27.0   \n",
      "..          ...      ...      ...        ...    ...  ...             ...   \n",
      "88   Volkswagen  Eurovan      Van       16.6   19.7  ...            34.0   \n",
      "89   Volkswagen   Passat  Compact       17.6   20.0  ...            31.5   \n",
      "90   Volkswagen  Corrado   Sporty       22.9   23.3  ...            26.0   \n",
      "91        Volvo      240  Compact       21.8   22.7  ...            29.5   \n",
      "92          NaN      850  Midsize       24.8   26.7  ...            30.0   \n",
      "\n",
      "    Luggage.room  Weight   Origin                Make  \n",
      "0            NaN  2705.0  non-USA       Acura Integra  \n",
      "1           15.0  3560.0  non-USA        Acura Legend  \n",
      "2           14.0  3375.0  non-USA             Audi 90  \n",
      "3           17.0  3405.0  non-USA            Audi 100  \n",
      "4           13.0  3640.0  non-USA            BMW 535i  \n",
      "..           ...     ...      ...                 ...  \n",
      "88           NaN  3960.0      NaN  Volkswagen Eurovan  \n",
      "89          14.0  2985.0  non-USA   Volkswagen Passat  \n",
      "90          15.0  2810.0  non-USA  Volkswagen Corrado  \n",
      "91          14.0  2985.0  non-USA           Volvo 240  \n",
      "92          15.0  3245.0  non-USA           Volvo 850  \n",
      "\n",
      "[93 rows x 27 columns]\n"
     ]
    }
   ],
   "source": [
    "df = pd.read_csv('https://raw.githubusercontent.com/selva86/datasets/master/Cars93_miss.csv')\n",
    "\n",
    "# Сохранение текущих настроек\n",
    "original_max_rows = pd.get_option('display.max_rows')\n",
    "original_max_columns = pd.get_option('display.max_columns')\n",
    "# Изменение настроек отображения\n",
    "pd.set_option('display.max_rows', 10)\n",
    "pd.set_option('display.max_columns', 10)\n",
    "# Вывод DataFrame\n",
    "print(df)\n",
    "# Возврат настроек к значениям по умолчанию\n",
    "pd.set_option('display.max_rows', original_max_rows)\n",
    "pd.set_option('display.max_columns', original_max_columns)"
   ]
  },
  {
   "cell_type": "markdown",
   "metadata": {},
   "source": [
    "## Упражнение № 46\n",
    "\n",
    "Исключите вывод научной нотации типа 'e-03' в `df` и выведите до 4 чисел после запятой.\n",
    "\n",
    "Пример входных данных:\n",
    "\n",
    "```python\n",
    "df = pd.DataFrame(np.random.random(4)**10, columns=['random'])\n",
    "df\n",
    "#>          random\n",
    "#> 0  3.474280e-03\n",
    "#> 1  3.951517e-05\n",
    "#> 2  7.469702e-02\n",
    "#> 3  5.541282e-28\n",
    "```\n",
    "\n",
    "Пример выходных данных:\n",
    "\n",
    "```python\n",
    "#>    random\n",
    "#> 0  0.0035\n",
    "#> 1  0.0000\n",
    "#> 2  0.0747\n",
    "#> 3  0.0000\n",
    "```"
   ]
  },
  {
   "cell_type": "code",
   "execution_count": null,
   "metadata": {},
   "outputs": [
    {
     "name": "stdout",
     "output_type": "stream",
     "text": [
      "         random\n",
      "0  3.574157e-06\n",
      "1  1.236636e-06\n",
      "2  7.727031e-11\n",
      "3  9.088724e-01\n",
      "   random\n",
      "0  0.0000\n",
      "1  0.0000\n",
      "2  0.0000\n",
      "3  0.9089\n"
     ]
    }
   ],
   "source": [
    "df = pd.DataFrame(np.random.random(4)**10, columns=['random'])\n",
    "print(df)\n",
    "# Изменение настроек отображения\n",
    "pd.set_option('display.float_format', '{:.4f}'.format)\n",
    "# Вывод DataFrame\n",
    "print(df)\n",
    "# Возврат настроек к значениям по умолчанию\n",
    "pd.reset_option('display.float_format')"
   ]
  },
  {
   "cell_type": "markdown",
   "metadata": {},
   "source": [
    "## Упражнение № 47\n",
    "\n",
    "Отформатируйте значения в столбце `'random'` из `df` в виде процентов.\n",
    "\n",
    "Пример входных данных:\n",
    "\n",
    "```python\n",
    "df = pd.DataFrame(np.random.random(4), columns=['random'])\n",
    "df\n",
    "#>      random\n",
    "#> 0    .689723\n",
    "#> 1    .957224\n",
    "#> 2    .159157\n",
    "#> 3    .21082\n",
    "```\n",
    "\n",
    "Пример выходных данных:\n",
    "\n",
    "```python\n",
    "#>      random\n",
    "#> 0    68.97%\n",
    "#> 1    95.72%\n",
    "#> 2    15.91%\n",
    "#> 3    2.10%\n",
    "```"
   ]
  },
  {
   "cell_type": "code",
   "execution_count": null,
   "metadata": {},
   "outputs": [
    {
     "name": "stdout",
     "output_type": "stream",
     "text": [
      "     random\n",
      "0  0.124941\n",
      "1  0.196982\n",
      "2  0.703630\n",
      "3  0.401933\n",
      "   random\n",
      "0  12.49%\n",
      "1  19.70%\n",
      "2  70.36%\n",
      "3  40.19%\n"
     ]
    }
   ],
   "source": [
    "\n",
    "df = pd.DataFrame(np.random.random(4), columns=['random'])\n",
    "print(df)\n",
    "\n",
    "df['random'] = df['random'].apply(lambda x: f'{x * 100:.2f}%')\n",
    "print(df)\n"
   ]
  },
  {
   "cell_type": "markdown",
   "metadata": {},
   "source": [
    "## Упражнение № 48\n",
    "\n",
    "Из `df` отфильтруйте значения `Manufacturer`, `Model` и `Type` для каждой 20-й строки, начиная с 1-й (строка 0).\n",
    "\n",
    "Пример входных данных:\n",
    "\n",
    "```python\n",
    "df = pd.read_csv('https://raw.githubusercontent.com/selva86/datasets/master/Cars93_miss.csv')\n",
    "```\n"
   ]
  },
  {
   "cell_type": "code",
   "execution_count": null,
   "metadata": {},
   "outputs": [
    {
     "name": "stdout",
     "output_type": "stream",
     "text": [
      "   Manufacturer    Model     Type\n",
      "0         Acura  Integra    Small\n",
      "20     Chrysler  LeBaron  Compact\n",
      "40        Honda  Prelude   Sporty\n",
      "60      Mercury   Cougar  Midsize\n",
      "80       Subaru   Loyale    Small\n"
     ]
    }
   ],
   "source": [
    "df = pd.read_csv('https://raw.githubusercontent.com/selva86/datasets/master/Cars93_miss.csv')\n",
    "\n",
    "print(df.loc[::20, ['Manufacturer', 'Model', 'Type']])"
   ]
  },
  {
   "cell_type": "markdown",
   "metadata": {},
   "source": [
    "## Упражнение № 49\n",
    "\n",
    "В `df` замените `NaN` на `missing` в столбцах `Manufacturer`, `Model` и `Type` , создайте индекс как комбинацию этих трех столбцов и проверьте, является ли этот индекс первичным ключом.\n",
    "\n",
    "Пример входных данных:\n",
    "\n",
    "```python\n",
    "df = pd.read_csv('https://raw.githubusercontent.com/selva86/datasets/master/Cars93_miss.csv', usecols=[0,1,2,3,5])\n",
    "```\n",
    "\n",
    "Пример выходных данных:\n",
    "\n",
    "```\n",
    "                       Manufacturer    Model     Type  Min.Price  Max.Price\n",
    "Acura_Integra_Small           Acura  Integra    Small       12.9       18.8\n",
    "missing_Legend_Midsize      missing   Legend  Midsize       29.2       38.7\n",
    "Audi_90_Compact                Audi       90  Compact       25.9       32.3\n",
    "Audi_100_Midsize               Audi      100  Midsize        NaN       44.6\n",
    "BMW_535i_Midsize                BMW     535i  Midsize        NaN        NaN\n",
    "```"
   ]
  },
  {
   "cell_type": "code",
   "execution_count": null,
   "metadata": {},
   "outputs": [
    {
     "name": "stdout",
     "output_type": "stream",
     "text": [
      "                          Manufacturer    Model     Type  Min.Price  Max.Price\n",
      "Index                                                                         \n",
      "Acura_Integra_Small              Acura  Integra    Small       12.9       18.8\n",
      "missing_Legend_Midsize         missing   Legend  Midsize       29.2       38.7\n",
      "Audi_90_Compact                   Audi       90  Compact       25.9       32.3\n",
      "Audi_100_Midsize                  Audi      100  Midsize        NaN       44.6\n",
      "BMW_535i_Midsize                   BMW     535i  Midsize        NaN        NaN\n",
      "...                                ...      ...      ...        ...        ...\n",
      "Volkswagen_Eurovan_Van      Volkswagen  Eurovan      Van       16.6       22.7\n",
      "Volkswagen_Passat_Compact   Volkswagen   Passat  Compact       17.6       22.4\n",
      "Volkswagen_Corrado_Sporty   Volkswagen  Corrado   Sporty       22.9       23.7\n",
      "Volvo_240_Compact                Volvo      240  Compact       21.8       23.5\n",
      "missing_850_Midsize            missing      850  Midsize       24.8       28.5\n",
      "\n",
      "[93 rows x 5 columns]\n",
      "\n",
      "Является ли индекс первичным ключом: True\n"
     ]
    }
   ],
   "source": [
    "df = pd.read_csv('https://raw.githubusercontent.com/selva86/datasets/master/Cars93_miss.csv', usecols=[0,1,2,3,5])\n",
    "\n",
    "df[['Manufacturer', 'Model', 'Type']] = df[['Manufacturer', 'Model', 'Type']].fillna('missing')\n",
    "df['Index'] = df['Manufacturer'] + '_' + df['Model'] + '_' + df['Type']\n",
    "df.set_index('Index', inplace=True)\n",
    "is_unique = df.index.is_unique\n",
    "print(df)\n",
    "print(f\"\\nЯвляется ли индекс первичным ключом: {is_unique}\")"
   ]
  },
  {
   "cell_type": "markdown",
   "metadata": {},
   "source": [
    "## Упражнение № 50\n",
    "\n",
    "Найти положение строки с 5-м наибольшим значением столбца `'a'` в `df`.\n",
    "\n",
    "Пример входных данных:\n",
    "\n",
    "```python\n",
    "df = pd.DataFrame(np.random.randint(1, 30, 30).reshape(10,-1), columns=list('abc'))\n",
    "```"
   ]
  },
  {
   "cell_type": "code",
   "execution_count": null,
   "metadata": {},
   "outputs": [
    {
     "name": "stdout",
     "output_type": "stream",
     "text": [
      "    a   b   c\n",
      "0  20   9  16\n",
      "1  16  28  12\n",
      "2  16  23   3\n",
      "3   5  12  10\n",
      "4  22  20  12\n",
      "5  14  22  22\n",
      "6  23  21  13\n",
      "7  20  17  29\n",
      "8   8  14  17\n",
      "9  12  28  29\n",
      "Положение строки с 5-м наибольшим значением в столбце 'a': 1\n"
     ]
    }
   ],
   "source": [
    "df = pd.DataFrame(np.random.randint(1, 30, 30).reshape(10, -1), columns=list('abc'))\n",
    "print(df)\n",
    "print(f\"Положение строки с 5-м наибольшим значением в столбце 'a': {df['a'].nlargest(5).index[-1]}\")"
   ]
  },
  {
   "cell_type": "markdown",
   "metadata": {},
   "source": [
    "\n",
    "## Упражнение № 51\n",
    "\n",
    "В `ser` найдите положение 2-го наибольшего значения, превышающего среднее.\n",
    "\n",
    "Пример входных данных:\n",
    "\n",
    "```python\n",
    "ser = pd.Series(np.random.randint(1, 100, 15))\n",
    "```\n"
   ]
  },
  {
   "cell_type": "code",
   "execution_count": null,
   "metadata": {},
   "outputs": [
    {
     "name": "stdout",
     "output_type": "stream",
     "text": [
      "0     35\n",
      "1     68\n",
      "2     72\n",
      "3      7\n",
      "4     63\n",
      "5     27\n",
      "6      2\n",
      "7     50\n",
      "8     43\n",
      "9     28\n",
      "10    52\n",
      "11    79\n",
      "12    87\n",
      "13    26\n",
      "14    27\n",
      "dtype: int32\n",
      "Среднее значение: 44.40\n",
      "Значения, превышающие среднее: [68 72 63 50 52 79 87]\n",
      "2-е наибольшее значение, превышающее среднее: 79\n",
      "Положение 2-го наибольшего значения, превышающего среднее: 11\n"
     ]
    }
   ],
   "source": [
    "original_max_rows = pd.get_option('display.max_rows')\n",
    "pd.set_option('display.max_rows', 100)\n",
    "\n",
    "ser = pd.Series(np.random.randint(1, 100, 15))\n",
    "print(ser)\n",
    "\n",
    "mean_value = ser.mean()\n",
    "filtered_values = ser[ser > mean_value]\n",
    "second_largest_value = filtered_values.nlargest(2).iloc[-1]\n",
    "position = ser[ser == second_largest_value].index[0] \n",
    "\n",
    "print(f\"Среднее значение: {mean_value:.2f}\")\n",
    "print(f\"Значения, превышающие среднее: {filtered_values.values}\")\n",
    "print(f\"2-е наибольшее значение, превышающее среднее: {second_largest_value}\")\n",
    "print(f\"Положение 2-го наибольшего значения, превышающего среднее: {position}\")\n",
    "pd.set_option('display.max_rows', original_max_rows)"
   ]
  },
  {
   "cell_type": "markdown",
   "metadata": {},
   "source": [
    "## Упражнение № 52\n",
    "\n",
    "Получите две последние строки `df`, сумма строк которых больше 100.\n",
    "\n",
    "```python\n",
    "df = pd.DataFrame(np.random.randint(10, 40, 60).reshape(-1, 4))\n",
    "```"
   ]
  },
  {
   "cell_type": "code",
   "execution_count": null,
   "metadata": {},
   "outputs": [
    {
     "name": "stdout",
     "output_type": "stream",
     "text": [
      "     0   1   2   3\n",
      "12  36  21  36  39\n",
      "13  39  30  18  35\n"
     ]
    }
   ],
   "source": [
    "df = pd.DataFrame(np.random.randint(10, 40, 60).reshape(-1, 4))\n",
    "\n",
    "filtered_df = df[df.sum(axis=1) > 100] # строки больше сотки\n",
    "print(filtered_df.tail(2))"
   ]
  },
  {
   "cell_type": "markdown",
   "metadata": {},
   "source": [
    "## Упражнение № 53\n",
    "\n",
    "Замените все значения `ser`, находящиеся ниже 5%-ного и выше 95%-ного перцентиля, на соответствующие значения 5-го и 95-го перцентиля.\n",
    "\n",
    "Пример входных данных:\n",
    "\n",
    "```python\n",
    "ser = pd.Series(np.logspace(-2, 2, 30))\n",
    "```"
   ]
  },
  {
   "cell_type": "code",
   "execution_count": null,
   "metadata": {},
   "outputs": [
    {
     "name": "stdout",
     "output_type": "stream",
     "text": [
      "0      0.016049\n",
      "1      0.016049\n",
      "2      0.018874\n",
      "3      0.025929\n",
      "4      0.035622\n",
      "5      0.048939\n",
      "6      0.067234\n",
      "7      0.092367\n",
      "8      0.126896\n",
      "9      0.174333\n",
      "10     0.239503\n",
      "11     0.329034\n",
      "12     0.452035\n",
      "13     0.621017\n",
      "14     0.853168\n",
      "15     1.172102\n",
      "16     1.610262\n",
      "17     2.212216\n",
      "18     3.039195\n",
      "19     4.175319\n",
      "20     5.736153\n",
      "21     7.880463\n",
      "22    10.826367\n",
      "23    14.873521\n",
      "24    20.433597\n",
      "25    28.072162\n",
      "26    38.566204\n",
      "27    52.983169\n",
      "28    63.876672\n",
      "29    63.876672\n",
      "dtype: float64\n"
     ]
    }
   ],
   "source": [
    "ser = pd.Series(np.logspace(-2, 2, 30))\n",
    "\n",
    "percentile_5 = np.percentile(ser, 5)\n",
    "percentile_95 = np.percentile(ser, 95)\n",
    "ser = ser.apply(lambda x: percentile_5 if x < percentile_5 else (percentile_95 if x > percentile_95 else x))\n",
    "\n",
    "print(ser)"
   ]
  },
  {
   "cell_type": "markdown",
   "metadata": {},
   "source": [
    "## Упражнение № 54\n",
    "\n",
    "Перестройте `df` в максимально возможный квадрат с удалением отрицательных значений. При необходимости отбросьте наименьшие значения. Порядок положительных чисел в результате должен остаться тем же, что и в исходном варианте.\n",
    "\n",
    "Пример входных данных:\n",
    "\n",
    "```python\n",
    "df = pd.DataFrame(np.random.randint(-20, 50, 100).reshape(10,-1))\n",
    "```"
   ]
  },
  {
   "cell_type": "code",
   "execution_count": null,
   "metadata": {},
   "outputs": [
    {
     "name": "stdout",
     "output_type": "stream",
     "text": [
      "Исходный DataFrame:\n",
      "    0   1   2   3   4   5   6   7   8   9\n",
      "0 -12  29  -2  28  37   8  41  37   2   2\n",
      "1  44  10  42 -18   2 -15  14 -17   0  -2\n",
      "2  46  10  16   3  36 -12  28 -18  29  39\n",
      "3  13  40  -3  40  24  40   0  22  26   4\n",
      "4   3  15  27  33 -20  21  15   2  45  31\n",
      "5  -5  23   7 -20  32  24  34  49  15  36\n",
      "6  33  29  -9  48 -20  34  -1  19  35  24\n",
      "7 -16   4 -20  33  12  29 -18   7  27 -16\n",
      "8 -11  37  20 -17  -3  38  17  -7 -14 -16\n",
      "9  30   6 -14  -1  47  -7  14  30  -8 -19\n",
      "\n",
      "Преобразованный квадратный DataFrame:\n",
      "      0     1     2     3     4     5     6     7\n",
      "0  29.0  28.0  37.0   8.0  41.0  37.0  44.0  10.0\n",
      "1  42.0  14.0  46.0  10.0  16.0   3.0  36.0  28.0\n",
      "2  29.0  39.0  13.0  40.0  40.0  24.0  40.0  22.0\n",
      "3  26.0   4.0   3.0  15.0  27.0  33.0  21.0  15.0\n",
      "4  45.0  31.0  23.0   7.0  32.0  24.0  34.0  49.0\n",
      "5  15.0  36.0  33.0  29.0  48.0  34.0  19.0  35.0\n",
      "6  24.0   4.0  33.0  12.0  29.0   7.0  27.0  37.0\n",
      "7  20.0  38.0  17.0  30.0   6.0  47.0  14.0  30.0\n"
     ]
    }
   ],
   "source": [
    "df = pd.DataFrame(np.random.randint(-20, 50, 100).reshape(10, -1))\n",
    "\n",
    "\n",
    "positive_values = df[df >= 0].stack().reset_index(drop=True)\n",
    "n = int(np.floor(np.sqrt(len(positive_values))))\n",
    "positive_values = positive_values.nlargest(n*n).sort_index(kind='mergesort').reset_index(drop=True) # мергесорт каким-то образом оставляет порядок лучше других, особенно у одинаковых чисел с разными индексами\n",
    "new_df = pd.DataFrame(positive_values.values.reshape(n, n))\n",
    "print(\"Исходный DataFrame:\")\n",
    "print(df)\n",
    "print(\"\\nПреобразованный квадратный DataFrame:\")\n",
    "print(new_df)"
   ]
  },
  {
   "cell_type": "markdown",
   "metadata": {},
   "source": [
    "\n",
    "## Упражнение № 55\n",
    "\n",
    "Поменяйте местами строки 1 и 2 в `df`.\n",
    "\n",
    "Пример входных данных:\n",
    "\n",
    "```python\n",
    "df = pd.DataFrame(np.arange(25).reshape(5, -1))\n",
    "```"
   ]
  },
  {
   "cell_type": "code",
   "execution_count": null,
   "metadata": {},
   "outputs": [
    {
     "name": "stdout",
     "output_type": "stream",
     "text": [
      "    0   1   2   3   4\n",
      "0   0   1   2   3   4\n",
      "1  10  11  12  13  14\n",
      "2   5   6   7   8   9\n",
      "3  15  16  17  18  19\n",
      "4  20  21  22  23  24\n"
     ]
    }
   ],
   "source": [
    "df = pd.DataFrame(np.arange(25).reshape(5, -1))\n",
    "\n",
    "df.iloc[[1, 2]] = df.iloc[[2, 1]].values # про названия строк ничего не сказано, поэтому 😊\n",
    "print(df)"
   ]
  },
  {
   "cell_type": "markdown",
   "metadata": {},
   "source": [
    "\n",
    "## Упражнение № 56\n",
    "\n",
    "Переверните строки датафрейма `df` (первая строка становится последней).\n",
    "\n",
    "Пример входных данных:\n",
    "\n",
    "```python\n",
    "df = pd.DataFrame(np.arange(25).reshape(5, -1))\n",
    "```"
   ]
  },
  {
   "cell_type": "code",
   "execution_count": null,
   "metadata": {},
   "outputs": [
    {
     "name": "stdout",
     "output_type": "stream",
     "text": [
      "Исходный DataFrame:\n",
      "    0   1   2   3   4\n",
      "0   0   1   2   3   4\n",
      "1   5   6   7   8   9\n",
      "2  10  11  12  13  14\n",
      "3  15  16  17  18  19\n",
      "4  20  21  22  23  24\n",
      "\n",
      "Перевернутый DataFrame:\n",
      "    0   1   2   3   4\n",
      "4  20  21  22  23  24\n",
      "3  15  16  17  18  19\n",
      "2  10  11  12  13  14\n",
      "1   5   6   7   8   9\n",
      "0   0   1   2   3   4\n"
     ]
    }
   ],
   "source": [
    "df = pd.DataFrame(np.arange(25).reshape(5, -1))\n",
    "\n",
    "print(\"Исходный DataFrame:\")\n",
    "print(df)\n",
    "print(\"\\nПеревернутый DataFrame:\")\n",
    "print(df.iloc[::-1]) "
   ]
  },
  {
   "cell_type": "markdown",
   "metadata": {},
   "source": [
    "## Упражнение № 57\n",
    "\n",
    "Получите бинарный код для столбца `'a'` в датафрейме `df` и добавьте его в виде столбцов.\n",
    "\n",
    "Пример входных данных:\n",
    "\n",
    "```python\n",
    "df = pd.DataFrame(np.arange(25).reshape(5,-1), columns=list('abcde'))\n",
    "    a   b   c   d   e\n",
    "0   0   1   2   3   4\n",
    "1   5   6   7   8   9\n",
    "2  10  11  12  13  14\n",
    "3  15  16  17  18  19\n",
    "4  20  21  22  23  24\n",
    "```\n",
    "\n",
    "Пример выходных данных:\n",
    "\n",
    "```python\n",
    "   0  5  10  15  20   b   c   d   e\n",
    "0  1  0   0   0   0   1   2   3   4\n",
    "1  0  1   0   0   0   6   7   8   9\n",
    "2  0  0   1   0   0  11  12  13  14\n",
    "3  0  0   0   1   0  16  17  18  19\n",
    "4  0  0   0   0   1  21  22  23  24\n",
    "```"
   ]
  },
  {
   "cell_type": "code",
   "execution_count": null,
   "metadata": {},
   "outputs": [
    {
     "name": "stdout",
     "output_type": "stream",
     "text": [
      "Исходный DataFrame:\n",
      "    a   b   c   d   e\n",
      "0   0   1   2   3   4\n",
      "1   5   6   7   8   9\n",
      "2  10  11  12  13  14\n",
      "3  15  16  17  18  19\n",
      "4  20  21  22  23  24\n",
      "\n",
      "DataFrame с бинарным кодом:\n",
      "   0  5  10  15  20   b   c   d   e\n",
      "0  1  0   0   0   0   1   2   3   4\n",
      "1  0  1   0   0   0   6   7   8   9\n",
      "2  0  0   1   0   0  11  12  13  14\n",
      "3  0  0   0   1   0  16  17  18  19\n",
      "4  0  0   0   0   1  21  22  23  24\n"
     ]
    }
   ],
   "source": [
    "df = pd.DataFrame(np.arange(25).reshape(5, -1), columns=list('abcde'))\n",
    "\n",
    "binary_cols = pd.get_dummies(df['a'], prefix='', prefix_sep='')\n",
    "binary_cols.columns = [str(col) for col in binary_cols.columns]\n",
    "binary_cols = binary_cols.astype(int) # избавляемся от тру фолз\n",
    "df_binary = pd.concat([binary_cols, df.drop('a', axis=1)], axis=1)\n",
    "print(\"Исходный DataFrame:\")\n",
    "print(df)\n",
    "print(\"\\nDataFrame с бинарным кодом:\")\n",
    "print(df_binary)"
   ]
  },
  {
   "cell_type": "markdown",
   "metadata": {},
   "source": [
    "## Упражнение № 58\n",
    "\n",
    "Получите название столбца с наибольшим количеством строчных максимумов в `df`.\n",
    "\n",
    "```python\n",
    "df = pd.DataFrame(np.random.randint(1,100, 40).reshape(10, -1))\n",
    "```"
   ]
  },
  {
   "cell_type": "code",
   "execution_count": null,
   "metadata": {},
   "outputs": [
    {
     "name": "stdout",
     "output_type": "stream",
     "text": [
      "Исходный DataFrame:\n",
      "    0   1   2   3\n",
      "0   6  22  19  40\n",
      "1  55   4  84  79\n",
      "2  19  97  27  42\n",
      "3  21  87  68  58\n",
      "4  68  81  77  70\n",
      "5  14   6  66  24\n",
      "6  58  48  61  59\n",
      "7  40  15  90  11\n",
      "8  62  98  31  95\n",
      "9  86  70  84  18\n",
      "\n",
      "Название столбца с наибольшим количеством строчных максимумов: 2\n"
     ]
    }
   ],
   "source": [
    "df = pd.DataFrame(np.random.randint(1, 100, 40).reshape(10, -1))\n",
    "\n",
    "max_columns = df.idxmax(axis=1)\n",
    "max_count = max_columns.value_counts()\n",
    "max_column_name = max_count.idxmax()\n",
    "print(\"Исходный DataFrame:\")\n",
    "print(df)\n",
    "print(\"\\nНазвание столбца с наибольшим количеством строчных максимумов:\", max_column_name)"
   ]
  },
  {
   "cell_type": "markdown",
   "metadata": {},
   "source": [
    "## Упражнение № 59\n",
    "\n",
    "Создать новый столбец, в каждой строке которого будет указан номер строки, ближайшей по евклидову расстоянию к данной строке.\n",
    "\n",
    "Пример входных данных:\n",
    "\n",
    "```python\n",
    "df = pd.DataFrame(np.random.randint(1,100, 40).reshape(10, -1), columns=list('pqrs'), index=list('abcdefghij'))\n",
    "df\n",
    "#     p   q   r   s\n",
    "# a  57  77  13  62\n",
    "# b  68   5  92  24\n",
    "# c  74  40  18  37\n",
    "# d  80  17  39  60\n",
    "# e  93  48  85  33\n",
    "# f  69  55   8  11\n",
    "# g  39  23  88  53\n",
    "# h  63  28  25  61\n",
    "# i  18   4  73   7\n",
    "# j  79  12  45  34\n",
    "```\n",
    "\n",
    "Пример выходных данных:\n",
    "\n",
    "```python\n",
    "df\n",
    "#    p   q   r   s nearest_row   dist\n",
    "# a  57  77  13  62           i  116.0\n",
    "# b  68   5  92  24           a  114.0\n",
    "# c  74  40  18  37           i   91.0\n",
    "# d  80  17  39  60           i   89.0\n",
    "# e  93  48  85  33           i   92.0\n",
    "# f  69  55   8  11           g  100.0\n",
    "# g  39  23  88  53           f  100.0\n",
    "# h  63  28  25  61           i   88.0\n",
    "# i  18   4  73   7           a  116.0\n",
    "# j  79  12  45  34           a   81.0\n",
    "```"
   ]
  },
  {
   "cell_type": "code",
   "execution_count": null,
   "metadata": {},
   "outputs": [
    {
     "name": "stdout",
     "output_type": "stream",
     "text": [
      "Исходный DataFrame:\n",
      "    p   q   r   s\n",
      "a  47  69  64  62\n",
      "b  37  10  66  35\n",
      "c  25  77  19  67\n",
      "d  43  73  89  49\n",
      "e  73  39  16  87\n",
      "f   2  64   5  71\n",
      "g  71  89  87  33\n",
      "h  91  73  80  59\n",
      "i  38  82  11  73\n",
      "j  94   7  83  62\n",
      "\n",
      "DataFrame с ближайшими строками и расстояниями:\n",
      "    p   q   r   s nearest_row       dist\n",
      "a  47  69  64  62           d  28.740216\n",
      "b  37  10  66  35           j  65.391131\n",
      "c  25  77  19  67           i  17.146428\n",
      "d  43  73  89  49           a  28.740216\n",
      "e  73  39  16  87           i  57.402091\n",
      "f   2  64   5  71           c  30.166206\n",
      "g  71  89  87  33           d  36.055513\n",
      "h  91  73  80  59           g  37.161808\n",
      "i  38  82  11  73           c  17.146428\n",
      "j  94   7  83  62           b  65.391131\n"
     ]
    }
   ],
   "source": [
    "df = pd.DataFrame(np.random.randint(1, 100, 40).reshape(10, -1), columns=list('pqrs'), index=list('abcdefghij'))\n",
    "print(\"Исходный DataFrame:\")\n",
    "print(df)\n",
    "\n",
    "def euclidean_distance(row1, row2):\n",
    "    return np.sqrt(np.sum((row1 - row2) ** 2))\n",
    "\n",
    "nearest_rows = []\n",
    "distances = []\n",
    "\n",
    "for i, row1 in df.iterrows():\n",
    "    min_distance = float('inf')\n",
    "    nearest_row = None\n",
    "    for j, row2 in df.iterrows():\n",
    "        if i != j:\n",
    "            dist = euclidean_distance(row1, row2)\n",
    "            if dist < min_distance:\n",
    "                min_distance = dist\n",
    "                nearest_row = j\n",
    "    nearest_rows.append(nearest_row)\n",
    "    distances.append(min_distance)\n",
    "\n",
    "df['nearest_row'] = nearest_rows\n",
    "df['dist'] = distances\n",
    "\n",
    "\n",
    "print(\"\\nDataFrame с ближайшими строками и расстояниями:\")\n",
    "print(df)"
   ]
  },
  {
   "cell_type": "markdown",
   "metadata": {},
   "source": [
    "## Упражнение № 60\n",
    "\n",
    "Вычислите максимально возможное абсолютное значение корреляции каждого столбца с другими столбцами в `df`.\n",
    "\n",
    "Пример входных данных:\n",
    "\n",
    "```python\n",
    "df = pd.DataFrame(np.random.randint(1,100, 80).reshape(8, -1), columns=list('pqrstuvwxy'), index=list('abcdefgh'))\n",
    "```"
   ]
  },
  {
   "cell_type": "code",
   "execution_count": null,
   "metadata": {},
   "outputs": [
    {
     "name": "stdout",
     "output_type": "stream",
     "text": [
      "Корреляционная матрица:\n",
      "          p         q         r         s         t         u         v  \\\n",
      "p  1.000000 -0.868545  0.178023  0.274328  0.013773 -0.021794 -0.229086   \n",
      "q -0.868545  1.000000 -0.088027 -0.104310 -0.084828  0.066360 -0.006605   \n",
      "r  0.178023 -0.088027  1.000000 -0.026117  0.133732  0.888008 -0.003681   \n",
      "s  0.274328 -0.104310 -0.026117  1.000000  0.823132 -0.428572 -0.212648   \n",
      "t  0.013773 -0.084828  0.133732  0.823132  1.000000 -0.252966  0.049284   \n",
      "u -0.021794  0.066360  0.888008 -0.428572 -0.252966  1.000000 -0.039252   \n",
      "v -0.229086 -0.006605 -0.003681 -0.212648  0.049284 -0.039252  1.000000   \n",
      "w  0.232241 -0.364812 -0.200017 -0.099668 -0.109623 -0.022103 -0.454755   \n",
      "x  0.120537 -0.063178  0.614534  0.180839  0.199141  0.604393 -0.358633   \n",
      "y  0.483049 -0.423273 -0.217849  0.667857  0.415312 -0.514500 -0.239365   \n",
      "\n",
      "          w         x         y  \n",
      "p  0.232241  0.120537  0.483049  \n",
      "q -0.364812 -0.063178 -0.423273  \n",
      "r -0.200017  0.614534 -0.217849  \n",
      "s -0.099668  0.180839  0.667857  \n",
      "t -0.109623  0.199141  0.415312  \n",
      "u -0.022103  0.604393 -0.514500  \n",
      "v -0.454755 -0.358633 -0.239365  \n",
      "w  1.000000  0.462308 -0.088739  \n",
      "x  0.462308  1.000000 -0.059244  \n",
      "y -0.088739 -0.059244  1.000000  \n",
      "\n",
      "Максимально возможное абсолютное значение корреляции для каждого столбца (исключая себя):\n",
      "p    0.868545\n",
      "q    0.868545\n",
      "r    0.888008\n",
      "s    0.823132\n",
      "t    0.823132\n",
      "u    0.888008\n",
      "v    0.454755\n",
      "w    0.462308\n",
      "x    0.614534\n",
      "y    0.667857\n",
      "dtype: float64\n"
     ]
    }
   ],
   "source": [
    "df = pd.DataFrame(np.random.randint(1, 100, 80).reshape(8, -1), columns=list('pqrstuvwxy'), index=list('abcdefgh'))\n",
    "\n",
    "correlation_matrix = df.corr()\n",
    "max_absolute_correlation = correlation_matrix.apply(lambda x: x.abs().nlargest(2).iloc[1])\n",
    "\n",
    "print(\"Корреляционная матрица:\")\n",
    "print(correlation_matrix)\n",
    "print(\"\\nМаксимально возможное абсолютное значение корреляции для каждого столбца (исключая себя):\")\n",
    "print(max_absolute_correlation)"
   ]
  },
  {
   "cell_type": "markdown",
   "metadata": {},
   "source": [
    "## Упражнение № 61\n",
    "\n",
    "Вычислите минимум-максимум для каждой строки `df`.\n",
    "\n",
    "```python\n",
    "df = pd.DataFrame(np.random.randint(1,100, 80).reshape(8, -1))\n",
    "```"
   ]
  },
  {
   "cell_type": "code",
   "execution_count": null,
   "metadata": {},
   "outputs": [
    {
     "name": "stdout",
     "output_type": "stream",
     "text": [
      "Исходный DataFrame:\n",
      "    0   1   2   3   4   5   6   7   8   9\n",
      "0  58  94   9  91  82  74  76   3  87  77\n",
      "1  12  36  13  98  26  24  71  68  59  14\n",
      "2   6  32  66  64  51   5  37  92  51  81\n",
      "3   4  94  74  92  32  17  66  14  62  33\n",
      "4  71  83  45  85  20  94  42  90  17  24\n",
      "5  33  92  53  53  90  50  81  89  50  97\n",
      "6  90  39  63  14  51  76  36  44  36  72\n",
      "7  86  53  90  36  15  25  41  60  55  95\n",
      "\n",
      "DataFrame с добавленным столбцом min_max_diff:\n",
      "    0   1   2   3   4   5   6   7   8   9  min_max_diff\n",
      "0  58  94   9  91  82  74  76   3  87  77            91\n",
      "1  12  36  13  98  26  24  71  68  59  14            86\n",
      "2   6  32  66  64  51   5  37  92  51  81            87\n",
      "3   4  94  74  92  32  17  66  14  62  33            90\n",
      "4  71  83  45  85  20  94  42  90  17  24            77\n",
      "5  33  92  53  53  90  50  81  89  50  97            64\n",
      "6  90  39  63  14  51  76  36  44  36  72            76\n",
      "7  86  53  90  36  15  25  41  60  55  95            80\n"
     ]
    }
   ],
   "source": [
    "df = pd.DataFrame(np.random.randint(1, 100, 80).reshape(8, -1))\n",
    "print(\"Исходный DataFrame:\")\n",
    "print(df)\n",
    "\n",
    "min_values = df.min(axis=1)\n",
    "max_values = df.max(axis=1)\n",
    "min_max_diff = max_values - min_values\n",
    "df['min_max_diff'] = min_max_diff\n",
    "\n",
    "print(\"\\nDataFrame с добавленным столбцом min_max_diff:\")\n",
    "print(df)"
   ]
  },
  {
   "cell_type": "markdown",
   "metadata": {},
   "source": [
    "## Упражнение № 62\n",
    "\n",
    "Создайте новый столбец `penultimate`, который содержит второе по величине значение каждой строки `df`.\n",
    "\n",
    "Пример входных данных:\n",
    "\n",
    "```python\n",
    "df = pd.DataFrame(np.random.randint(1,100, 80).reshape(8, -1))\n",
    "```"
   ]
  },
  {
   "cell_type": "code",
   "execution_count": null,
   "metadata": {},
   "outputs": [
    {
     "name": "stdout",
     "output_type": "stream",
     "text": [
      "Исходный DataFrame:\n",
      "    0   1   2   3   4   5   6   7   8   9\n",
      "0  57  66  79   3  52  27  33  46  83  57\n",
      "1  17  43  34  32  30  46  46  96  25  40\n",
      "2  56  41  44  69  55  68  39  85  58  29\n",
      "3  33  74   6  12   6  53  28   4  10  10\n",
      "4  28  56  25  99  62  38  93  55  52  39\n",
      "5  72  11  37  60  98   6   1  81  25  27\n",
      "6  78  84  30  75  50   8  43  13  66  21\n",
      "7  33  27  77  61  94  43  46  72  20  41\n",
      "\n",
      "DataFrame с добавленным столбцом 'penultimate':\n",
      "    0   1   2   3   4   5   6   7   8   9  penultimate\n",
      "0  57  66  79   3  52  27  33  46  83  57           79\n",
      "1  17  43  34  32  30  46  46  96  25  40           46\n",
      "2  56  41  44  69  55  68  39  85  58  29           69\n",
      "3  33  74   6  12   6  53  28   4  10  10           53\n",
      "4  28  56  25  99  62  38  93  55  52  39           93\n",
      "5  72  11  37  60  98   6   1  81  25  27           81\n",
      "6  78  84  30  75  50   8  43  13  66  21           78\n",
      "7  33  27  77  61  94  43  46  72  20  41           77\n"
     ]
    }
   ],
   "source": [
    "df = pd.DataFrame(np.random.randint(1, 100, 80).reshape(8, -1))\n",
    "print(\"Исходный DataFrame:\")\n",
    "print(df)\n",
    "\n",
    "def second_largest(row):\n",
    "    return row.nlargest(2).iloc[1]\n",
    "\n",
    "df['penultimate'] = df.apply(second_largest, axis=1)\n",
    "\n",
    "print(\"\\nDataFrame с добавленным столбцом 'penultimate':\")\n",
    "print(df)"
   ]
  },
  {
   "cell_type": "markdown",
   "metadata": {},
   "source": [
    "\n",
    "## Упражнение № 63\n",
    "\n",
    "1. Нормализуйте все столбцы `df`, вычитая среднее значение столбца и деля его на стандартное отклонение.\n",
    "2. Произведите ранжирование всех столбцов `df` таким образом, чтобы минимальное значение в каждом столбце было равно 0, а максимальное — 1.\n",
    "\n",
    "Не используйте внешние пакеты типа `sklearn`.\n",
    "\n",
    "Пример входных данных:\n",
    "\n",
    "```python\n",
    "df = pd.DataFrame(np.random.randint(1,100, 80).reshape(8, -1))\n",
    "```"
   ]
  },
  {
   "cell_type": "code",
   "execution_count": null,
   "metadata": {},
   "outputs": [
    {
     "name": "stdout",
     "output_type": "stream",
     "text": [
      "Исходный DataFrame:\n",
      "    0   1   2   3   4   5   6   7   8   9\n",
      "0   4  33  90  88  34  59  75  77  15  14\n",
      "1   1  37  77  61  25  34  48  98  52  30\n",
      "2  48  33  32  78  26  30  21  77   2  74\n",
      "3   5  28  65  32  21  37  34  73   1  36\n",
      "4  43  78  20  47  57  36  79  85  30   9\n",
      "5  45  11  10  92  98  78  84   4  73  70\n",
      "6  39  22  78  99  37  94  99  75  63  15\n",
      "7  84   8  21   7  95  66  72  23  13  93\n",
      "\n",
      "Нормализованный DataFrame:\n",
      "          0         1         2         3         4         5         6  \\\n",
      "0 -1.033481  0.080949  1.292870  0.771832 -0.483896  0.200379  0.409946   \n",
      "1 -1.138138  0.265977  0.881682 -0.061747 -0.771834 -0.854249 -0.596285   \n",
      "2  0.501478  0.080949 -0.541661  0.463099 -0.739841 -1.022990 -1.602515   \n",
      "3 -0.998596 -0.150335  0.502124 -0.957071 -0.899807 -0.727694 -1.118034   \n",
      "4  0.327051  2.162505 -0.921219 -0.493972  0.251946 -0.769879  0.559017   \n",
      "5  0.396822 -0.936700 -1.237517  0.895325  1.563664  1.001897  0.745356   \n",
      "6  0.187509 -0.427875  0.913312  1.111438 -0.387917  1.676859  1.304373   \n",
      "7  1.757354 -1.075471 -0.889589 -1.728903  1.467685  0.495675  0.298142   \n",
      "\n",
      "          7         8         9  \n",
      "0  0.399346 -0.572622 -0.893294  \n",
      "1  1.044442  0.741301 -0.393985  \n",
      "2  0.399346 -1.034271  0.979112  \n",
      "3  0.276470 -1.069782 -0.206745  \n",
      "4  0.645097 -0.039950 -1.049328  \n",
      "5 -1.843134  1.487042  0.854285  \n",
      "6  0.337908  1.131927 -0.862087  \n",
      "7 -1.259475 -0.643645  1.572041  \n",
      "\n",
      "Ранжированный нормализованный DataFrame:\n",
      "          0         1       2         3         4         5         6  \\\n",
      "0  0.036145  0.357143  1.0000  0.880435  0.168831  0.453125  0.692308   \n",
      "1  0.000000  0.414286  0.8375  0.586957  0.051948  0.062500  0.346154   \n",
      "2  0.566265  0.357143  0.2750  0.771739  0.064935  0.000000  0.000000   \n",
      "3  0.048193  0.285714  0.6875  0.271739  0.000000  0.109375  0.166667   \n",
      "4  0.506024  1.000000  0.1250  0.434783  0.467532  0.093750  0.743590   \n",
      "5  0.530120  0.042857  0.0000  0.923913  1.000000  0.750000  0.807692   \n",
      "6  0.457831  0.200000  0.8500  1.000000  0.207792  1.000000  1.000000   \n",
      "7  1.000000  0.000000  0.1375  0.000000  0.961039  0.562500  0.653846   \n",
      "\n",
      "          7         8         9  \n",
      "0  0.776596  0.194444  0.059524  \n",
      "1  1.000000  0.708333  0.250000  \n",
      "2  0.776596  0.013889  0.773810  \n",
      "3  0.734043  0.000000  0.321429  \n",
      "4  0.861702  0.402778  0.000000  \n",
      "5  0.000000  1.000000  0.726190  \n",
      "6  0.755319  0.861111  0.071429  \n",
      "7  0.202128  0.166667  1.000000  \n"
     ]
    }
   ],
   "source": [
    "df = pd.DataFrame(np.random.randint(1, 100, 80).reshape(8, -1))\n",
    "print(\"Исходный DataFrame:\")\n",
    "print(df)\n",
    "\n",
    "# Шаг 1: Нормализация столбцов\n",
    "df = (df - df.mean()) / df.std()\n",
    "print(\"\\nНормализованный DataFrame:\")\n",
    "print(df)\n",
    "\n",
    "# Шаг 2: Ранжирование столбцов\n",
    "df = (df - df.min()) / (df.max() - df.min())\n",
    "print(\"\\nРанжированный нормализованный DataFrame:\")\n",
    "print(df)"
   ]
  },
  {
   "cell_type": "markdown",
   "metadata": {},
   "source": [
    "## Упражнение № 64\n",
    "\n",
    "Вычислите корреляцию каждой строки `df` с последующей строкой.\n",
    "\n",
    "Пример входных данных:\n",
    "\n",
    "```python\n",
    "df = pd.DataFrame(np.random.randint(1,100, 80).reshape(8, -1))\n",
    "```"
   ]
  },
  {
   "cell_type": "code",
   "execution_count": null,
   "metadata": {},
   "outputs": [
    {
     "name": "stdout",
     "output_type": "stream",
     "text": [
      "Исходный DataFrame:\n",
      "    0   1   2   3   4   5   6   7   8   9\n",
      "0  53  42  82  95   4  12  26  71  73  48\n",
      "1  70  48  87  92  18  17   3  27  17  18\n",
      "2  13  43   6  51  97  74  26  76  34  83\n",
      "3  30  48   1  37  13  80   9  31  55  23\n",
      "4  90  50  77  90  35  99   2  76  65  10\n",
      "5  90  21  28  90  11  59  14  80  25  64\n",
      "6  63  23  45  95  92  54  42  97  95  71\n",
      "7   3  88   1  72  15  67  94  46  38  71\n",
      "\n",
      "Корреляции между каждой строкой и последующей строкой:\n",
      "   Строка 1  Строка 2  Корреляция\n",
      "0         0         1    0.668047\n",
      "1         1         2   -0.503795\n",
      "2         2         3    0.218224\n",
      "3         3         4    0.500246\n",
      "4         4         5    0.550061\n",
      "5         5         6    0.368121\n",
      "6         6         7   -0.287528\n"
     ]
    }
   ],
   "source": [
    "df = pd.DataFrame(np.random.randint(1, 100, 80).reshape(8, -1))\n",
    "\n",
    "correlations = []\n",
    "for i in range(len(df) - 1):\n",
    "    corr = df.iloc[i].corr(df.iloc[i + 1])\n",
    "    correlations.append(corr)\n",
    "\n",
    "result_df = pd.DataFrame({\n",
    "    'Строка 1': df.index[:-1],\n",
    "    'Строка 2': df.index[1:],\n",
    "    'Корреляция': correlations\n",
    "})\n",
    "\n",
    "print(\"Исходный DataFrame:\")\n",
    "print(df)\n",
    "print(\"\\nКорреляции между каждой строкой и последующей строкой:\")\n",
    "print(result_df)"
   ]
  },
  {
   "cell_type": "markdown",
   "metadata": {},
   "source": [
    "## Упражнение № 65\n",
    "\n",
    "Замените все значения в обеих диагоналях `df` на 0.\n",
    "\n",
    "Пример входных данных:\n",
    "\n",
    "```python\n",
    "df = pd.DataFrame(np.random.randint(1,100, 100).reshape(10, -1))\n",
    "df\n",
    "#     0   1   2   3   4   5   6   7   8   9\n",
    "# 0  11  46  26  44  11  62  18  70  68  26\n",
    "# 1  87  71  52  50  81  43  83  39   3  59\n",
    "# 2  47  76  93  77  73   2   2  16  14  26\n",
    "# 3  64  18  74  22  16  37  60   8  66  39\n",
    "# 4  10  18  39  98  25   8  32   6   3  29\n",
    "# 5  29  91  27  86  23  84  28  31  97  10\n",
    "# 6  37  71  70  65   4  72  82  89  12  97\n",
    "# 7  65  22  97  75  17  10  43  78  12  77\n",
    "# 8  47  57  96  55  17  83  61  85  26  86\n",
    "# 9  76  80  28  45  77  12  67  80   7  63\n",
    "```\n",
    "\n",
    "Пример выходных данных:\n",
    "\n",
    "```python\n",
    "#     0   1   2   3   4   5   6   7   8   9\n",
    "# 0   0  46  26  44  11  62  18  70  68   0\n",
    "# 1  87   0  52  50  81  43  83  39   0  59\n",
    "# 2  47  76   0  77  73   2   2   0  14  26\n",
    "# 3  64  18  74   0  16  37   0   8  66  39\n",
    "# 4  10  18  39  98   0   0  32   6   3  29\n",
    "# 5  29  91  27  86   0   0  28  31  97  10\n",
    "# 6  37  71  70   0   4  72   0  89  12  97\n",
    "# 7  65  22   0  75  17  10  43   0  12  77\n",
    "# 8  47   0  96  55  17  83  61  85   0  86\n",
    "# 9   0  80  28  45  77  12  67  80   7   0\n",
    "```"
   ]
  },
  {
   "cell_type": "code",
   "execution_count": null,
   "metadata": {},
   "outputs": [
    {
     "name": "stdout",
     "output_type": "stream",
     "text": [
      "DataFrame с замененными значениями в диагоналях:\n",
      "    0   1   2   3   4   5   6   7   8   9\n",
      "0   0  31  75  89  21  46  48  79   7   0\n",
      "1  19   0  72  19  92   6  36  66   0   2\n",
      "2   4  32   0  22   3  66  26   0  59  93\n",
      "3  70  22   2   0  91  92   0   7  50  26\n",
      "4  17  34  31  54   0   0  59  17  86   4\n",
      "5  38  75  73  69   0   0  34  54  71  31\n",
      "6  83  24  74   0  51  92   0  35  94  33\n",
      "7  97  22   0  40  89  18  41   0  24  22\n",
      "8  22   0  21  76  99  56  20  25   0  64\n",
      "9   0  83  50   2  80  88  93   3  17   0\n"
     ]
    }
   ],
   "source": [
    "df = pd.DataFrame(np.random.randint(1, 100, 100).reshape(10, -1))\n",
    "\n",
    "np.fill_diagonal(df.values, 0)\n",
    "for i in range(len(df)):\n",
    "    df.iat[i, len(df) - 1 - i] = 0\n",
    "print(\"DataFrame с замененными значениями в диагоналях:\")\n",
    "print(df)"
   ]
  },
  {
   "cell_type": "markdown",
   "metadata": {},
   "source": [
    "## Упражнение № 66\n",
    "\n",
    "Из `df_grouped` получите в виде датафрейма группу, относящуюся к `apple`.\n",
    "\n",
    "Пример входных данных:\n",
    "\n",
    "```python\n",
    "df = pd.DataFrame({'col1': ['apple', 'banana', 'orange'] * 3,\n",
    "                   'col2': np.random.rand(9),\n",
    "                   'col3': np.random.randint(0, 15, 9)})\n",
    "\n",
    "df_grouped = df.groupby(['col1'])\n",
    "```\n",
    "\n",
    "Пример выходных данных\n",
    "\n",
    "```\n",
    "    col1      col2  col3\n",
    "0  apple  0.673434     7\n",
    "3  apple  0.182348    14\n",
    "6  apple  0.050457     3\n",
    "```"
   ]
  },
  {
   "cell_type": "code",
   "execution_count": null,
   "metadata": {},
   "outputs": [
    {
     "name": "stdout",
     "output_type": "stream",
     "text": [
      "Исходный DataFrame:\n",
      "     col1      col2  col3\n",
      "0   apple  0.734270    11\n",
      "1  banana  0.679657     7\n",
      "2  orange  0.765651    14\n",
      "3   apple  0.653946     1\n",
      "4  banana  0.415187     2\n",
      "5  orange  0.927821     9\n",
      "6   apple  0.177425     3\n",
      "7  banana  0.518324     7\n",
      "8  orange  0.669498    11\n",
      "\n",
      "Группа, относящаяся к 'apple':\n",
      "    col1      col2  col3\n",
      "0  apple  0.734270    11\n",
      "3  apple  0.653946     1\n",
      "6  apple  0.177425     3\n"
     ]
    }
   ],
   "source": [
    "df = pd.DataFrame({\n",
    "    'col1': ['apple', 'banana', 'orange'] * 3,\n",
    "    'col2': np.random.rand(9),\n",
    "    'col3': np.random.randint(0, 15, 9)\n",
    "})\n",
    "\n",
    "df_grouped = df.groupby('col1')\n",
    "print(\"Исходный DataFrame:\")\n",
    "print(df)\n",
    "print(\"\\nГруппа, относящаяся к 'apple':\")\n",
    "print(df_grouped.get_group('apple'))"
   ]
  },
  {
   "cell_type": "markdown",
   "metadata": {},
   "source": [
    "## Упражнение № 67\n",
    "\n",
    "В `df` найдите второе по величине значение `taste` для `banana`.\n",
    "\n",
    "Пример входных данных:\n",
    "\n",
    "```python\n",
    "df = pd.DataFrame({'fruit': ['apple', 'banana', 'orange'] * 3,\n",
    "                   'rating': np.random.rand(9),\n",
    "                   'price': np.random.randint(0, 15, 9)})\n",
    "```"
   ]
  },
  {
   "cell_type": "code",
   "execution_count": null,
   "metadata": {},
   "outputs": [
    {
     "name": "stdout",
     "output_type": "stream",
     "text": [
      "Исходный DataFrame:\n",
      "    fruit    rating  price\n",
      "0   apple  0.754737      1\n",
      "1  banana  0.236182      4\n",
      "2  orange  0.044415      9\n",
      "3   apple  0.493545     13\n",
      "4  banana  0.507152      7\n",
      "5  orange  0.802987      9\n",
      "6   apple  0.129861      7\n",
      "7  banana  0.386753      7\n",
      "8  orange  0.929249      3\n",
      "\n",
      "Второе по величине значение 'rating' для 'banana':\n",
      "0.38675301673312845\n"
     ]
    }
   ],
   "source": [
    "df = pd.DataFrame({\n",
    "    'fruit': ['apple', 'banana', 'orange'] * 3,\n",
    "    'rating': np.random.rand(9),\n",
    "    'price': np.random.randint(0, 15, 9)\n",
    "})\n",
    "\n",
    "banana_ratings = df[df['fruit'] == 'banana']['rating']\n",
    "print(\"Исходный DataFrame:\")\n",
    "print(df)\n",
    "print(\"\\nВторое по величине значение 'rating' для 'banana':\")\n",
    "print(banana_ratings.nlargest(2).iloc[-1])"
   ]
  },
  {
   "cell_type": "markdown",
   "metadata": {},
   "source": [
    "## Упражнение № 68\n",
    "\n",
    "В `df` вычислите среднюю цену `Price` каждого фрукта `Fruit`, сохраняя фрукт как еще один столбец вместо индекса.\n",
    "\n",
    "Пример входных данных:\n",
    "\n",
    "```python\n",
    "df = pd.DataFrame({'fruit': ['apple', 'banana', 'orange'] * 3,\n",
    "                   'rating': np.random.rand(9),\n",
    "                   'price': np.random.randint(0, 15, 9)})\n",
    "```"
   ]
  },
  {
   "cell_type": "code",
   "execution_count": null,
   "metadata": {},
   "outputs": [
    {
     "name": "stdout",
     "output_type": "stream",
     "text": [
      "Исходный DataFrame:\n",
      "    fruit    rating  price\n",
      "0   apple  0.326957      1\n",
      "1  banana  0.914910      0\n",
      "2  orange  0.456758      2\n",
      "3   apple  0.736782     11\n",
      "4  banana  0.020656      0\n",
      "5  orange  0.826466      5\n",
      "6   apple  0.581773      2\n",
      "7  banana  0.351786      6\n",
      "8  orange  0.397433      2\n",
      "\n",
      "Средняя цена каждого фрукта:\n",
      "    fruit     price\n",
      "0   apple  4.666667\n",
      "1  banana  2.000000\n",
      "2  orange  3.000000\n"
     ]
    }
   ],
   "source": [
    "\n",
    "df = pd.DataFrame({\n",
    "    'fruit': ['apple', 'banana', 'orange'] * 3,\n",
    "    'rating': np.random.rand(9),\n",
    "    'price': np.random.randint(0, 15, 9)\n",
    "})\n",
    "\n",
    "print(\"Исходный DataFrame:\")\n",
    "print(df)\n",
    "print(\"\\nСредняя цена каждого фрукта:\")\n",
    "print(df.groupby('fruit', as_index=False)['price'].mean())"
   ]
  },
  {
   "cell_type": "markdown",
   "metadata": {},
   "source": [
    "## Упражнение № 69\n",
    "\n",
    "Объединить датафреймы `df1` и `df2` по признакам `fruit-pazham` и `weight-kilo`.\n",
    "\n",
    "Пример входных данных:\n",
    "\n",
    "```python\n",
    "df1 = pd.DataFrame({'fruit': ['apple', 'banana', 'orange'] * 3,\n",
    "                    'weight': ['high', 'medium', 'low'] * 3,\n",
    "                    'price': np.random.randint(0, 15, 9)})\n",
    "\n",
    "df2 = pd.DataFrame({'pazham': ['apple', 'orange', 'pine'] * 2,\n",
    "                    'kilo': ['high', 'low'] * 3,\n",
    "                    'price': np.random.randint(0, 15, 6)})\n",
    "```"
   ]
  },
  {
   "cell_type": "code",
   "execution_count": null,
   "metadata": {},
   "outputs": [
    {
     "name": "stdout",
     "output_type": "stream",
     "text": [
      "Исходный DataFrame df1:\n",
      "    fruit  weight  price\n",
      "0   apple    high      2\n",
      "1  banana  medium     10\n",
      "2  orange     low      4\n",
      "3   apple    high      3\n",
      "4  banana  medium      7\n",
      "5  orange     low     13\n",
      "6   apple    high     13\n",
      "7  banana  medium     13\n",
      "8  orange     low     11\n",
      "\n",
      "Исходный DataFrame df2:\n",
      "   pazham  kilo  price\n",
      "0   apple  high     10\n",
      "1  orange   low      3\n",
      "2    pine  high     13\n",
      "3   apple   low      4\n",
      "4  orange  high      9\n",
      "5    pine   low     13\n",
      "\n",
      "Объединенный DataFrame:\n",
      "    fruit weight  price_x  pazham  kilo  price_y\n",
      "0   apple   high        2   apple  high       10\n",
      "1  orange    low        4  orange   low        3\n",
      "2   apple   high        3   apple  high       10\n",
      "3  orange    low       13  orange   low        3\n",
      "4   apple   high       13   apple  high       10\n",
      "5  orange    low       11  orange   low        3\n"
     ]
    }
   ],
   "source": [
    "df1 = pd.DataFrame({\n",
    "    'fruit': ['apple', 'banana', 'orange'] * 3,\n",
    "    'weight': ['high', 'medium', 'low'] * 3,\n",
    "    'price': np.random.randint(0, 15, 9)\n",
    "})\n",
    "df2 = pd.DataFrame({\n",
    "    'pazham': ['apple', 'orange', 'pine'] * 2,\n",
    "    'kilo': ['high', 'low'] * 3,\n",
    "    'price': np.random.randint(0, 15, 6)\n",
    "})\n",
    "\n",
    "print(\"Исходный DataFrame df1:\")\n",
    "print(df1)\n",
    "print(\"\\nИсходный DataFrame df2:\")\n",
    "print(df2)\n",
    "print(\"\\nОбъединенный DataFrame:\")\n",
    "print(pd.merge(df1, df2, left_on=['fruit', 'weight'], right_on=['pazham', 'kilo']))"
   ]
  },
  {
   "cell_type": "markdown",
   "metadata": {},
   "source": [
    "## Упражнение № 70\n",
    "\n",
    "Создайте в `df` два новых столбца, один из них — `lag1` (сдвиг столбца `a` вниз на 1 строку) столбца 'a', а другой — `lead1` (сдвиг столбца `b` вверх на 1 строку).\n",
    "\n",
    "Пример входных данных:\n",
    "\n",
    "```python\n",
    "df = pd.DataFrame(np.random.randint(1, 100, 20).reshape(-1, 4), columns = list('abcd'))\n",
    "\n",
    "    a   b   c   d\n",
    "0  66  34  76  47\n",
    "1  20  86  10  81\n",
    "2  75  73  51  28\n",
    "3   1   1   9  83\n",
    "4  30  47  67   4\n",
    "```\n",
    "\n",
    "Пример выходных данных:\n",
    "\n",
    "```python\n",
    "    a   b   c   d  a_lag1  b_lead1\n",
    "0  66  34  76  47     NaN     86.0\n",
    "1  20  86  10  81    66.0     73.0\n",
    "2  75  73  51  28    20.0      1.0\n",
    "3   1   1   9  83    75.0     47.0\n",
    "4  30  47  67   4     1.0      NaN\n",
    "```"
   ]
  },
  {
   "cell_type": "code",
   "execution_count": null,
   "metadata": {},
   "outputs": [
    {
     "name": "stdout",
     "output_type": "stream",
     "text": [
      "Исходный DataFrame:\n",
      "    a   b   c   d\n",
      "0  59  25  93   4\n",
      "1  30  48  99  71\n",
      "2  62  12  32  40\n",
      "3  11  63  37  53\n",
      "4  92  33   8  79\n",
      "\n",
      "DataFrame с добавленными столбцами 'a_lag1' и 'b_lead1':\n",
      "    a   b   c   d  a_lag1  b_lead1\n",
      "0  59  25  93   4     NaN     48.0\n",
      "1  30  48  99  71    59.0     12.0\n",
      "2  62  12  32  40    30.0     63.0\n",
      "3  11  63  37  53    62.0     33.0\n",
      "4  92  33   8  79    11.0      NaN\n"
     ]
    }
   ],
   "source": [
    "df = pd.DataFrame(np.random.randint(1, 100, 20).reshape(-1, 4), columns=list('abcd'))\n",
    "print(\"Исходный DataFrame:\")\n",
    "print(df)\n",
    "\n",
    "df['a_lag1'] = df['a'].shift(1)\n",
    "df['b_lead1'] = df['b'].shift(-1)\n",
    "print(\"\\nDataFrame с добавленными столбцами 'a_lag1' и 'b_lead1':\")\n",
    "print(df)"
   ]
  },
  {
   "cell_type": "markdown",
   "metadata": {},
   "source": [
    "## Упражнение № 71\n",
    "\n",
    "Получите частоты уникальных значений по всему датафрейму `df`.\n",
    "\n",
    "Пример входных данных:\n",
    "\n",
    "```python\n",
    "df = pd.DataFrame(np.random.randint(1, 10, 20).reshape(-1, 4), columns = list('abcd'))\n",
    "```"
   ]
  },
  {
   "cell_type": "code",
   "execution_count": null,
   "metadata": {},
   "outputs": [
    {
     "name": "stdout",
     "output_type": "stream",
     "text": [
      "Исходный DataFrame:\n",
      "   a  b  c  d\n",
      "0  4  7  7  3\n",
      "1  7  4  6  5\n",
      "2  9  3  4  7\n",
      "3  6  7  6  4\n",
      "4  6  2  3  4\n",
      "\n",
      "Частоты уникальных значений по всему DataFrame:\n",
      "2    1\n",
      "3    3\n",
      "4    5\n",
      "5    1\n",
      "6    4\n",
      "7    5\n",
      "9    1\n",
      "Name: count, dtype: int64\n"
     ]
    }
   ],
   "source": [
    "df = pd.DataFrame(np.random.randint(1, 10, 20).reshape(-1, 4), columns=list('abcd'))\n",
    "\n",
    "print(\"Исходный DataFrame:\")\n",
    "print(df)\n",
    "print(\"\\nЧастоты уникальных значений по всему DataFrame:\")\n",
    "print(df.stack().value_counts().sort_index())"
   ]
  },
  {
   "cell_type": "markdown",
   "metadata": {},
   "source": [
    "## Упражнение № 72\n",
    "\n",
    "Разделите столбец `row` в `df` так, чтобы сформировать датафрейм с 3 столбцами, как показано в примере выходных данных. \n",
    "\n",
    "Пример входных данных:\n",
    "\n",
    "```python\n",
    "df = pd.DataFrame([\"STD, City    State\",\n",
    "\"33, Kolkata    West Bengal\",\n",
    "\"44, Chennai    Tamil Nadu\",\n",
    "\"40, Hyderabad    Telengana\",\n",
    "\"80, Bangalore    Karnataka\"], columns=['row'])\n",
    "\n",
    "print(df)\n",
    "#>                         row\n",
    "#> 0          STD, City\\tState\n",
    "#> 1  33, Kolkata\\tWest Bengal\n",
    "#> 2   44, Chennai\\tTamil Nadu\n",
    "#> 3  40, Hyderabad\\tTelengana\n",
    "#> 4  80, Bangalore\\tKarnataka\n",
    "```\n",
    "\n",
    "Пример выходных данных:\n",
    "\n",
    "```\n",
    "0 STD        City        State\n",
    "1  33     Kolkata  West Bengal\n",
    "2  44     Chennai   Tamil Nadu\n",
    "3  40   Hyderabad    Telengana\n",
    "4  80   Bangalore    Karnataka\n",
    "```\n"
   ]
  },
  {
   "cell_type": "code",
   "execution_count": null,
   "metadata": {},
   "outputs": [
    {
     "name": "stdout",
     "output_type": "stream",
     "text": [
      "                        row\n",
      "0          STD, City\\tState\n",
      "1  33, Kolkata\\tWest Bengal\n",
      "2   44, Chennai\\tTamil Nadu\n",
      "3  40, Hyderabad\\tTelengana\n",
      "4  80, Bangalore\\tKarnataka\n",
      "\n",
      "Разделённый DataFrame:\n",
      "  STD        City        State\n",
      "1  33     Kolkata  West Bengal\n",
      "2  44     Chennai   Tamil Nadu\n",
      "3  40   Hyderabad    Telengana\n",
      "4  80   Bangalore    Karnataka\n"
     ]
    }
   ],
   "source": [
    "df = pd.DataFrame([\"STD, City\\tState\",\n",
    "                   \"33, Kolkata\\tWest Bengal\",\n",
    "                   \"44, Chennai\\tTamil Nadu\",\n",
    "                   \"40, Hyderabad\\tTelengana\",\n",
    "                   \"80, Bangalore\\tKarnataka\"], \n",
    "                  columns=['row'])\n",
    "print(df)\n",
    "\n",
    "df = df['row'].iloc[1:].str.split('[,\\t]', expand=True)\n",
    "df.columns = ['STD', 'City', 'State']\n",
    "print(\"\\nРазделённый DataFrame:\")\n",
    "print(df)"
   ]
  }
 ],
 "metadata": {
  "language_info": {
   "name": "python"
  }
 },
 "nbformat": 4,
 "nbformat_minor": 2
}
